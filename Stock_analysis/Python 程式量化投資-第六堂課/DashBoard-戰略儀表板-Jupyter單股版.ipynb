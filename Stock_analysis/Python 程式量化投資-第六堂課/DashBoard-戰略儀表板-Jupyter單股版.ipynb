{
 "cells": [
  {
   "cell_type": "markdown",
   "metadata": {},
   "source": [
    "<h1>光頭傑夫製作</h1><img src=\"https://rolqiw.bl.files.1drv.com/y4mYqkObWmQmdJFd8pab8t8m7d_mFhh3_YG63fiAnPaG6gjahHFt0n087pF97x1W2wemm7hd4ZdiPD2OxoPtqcCD_4-Jy-fojnt97kGGWR4Hnq0-9Ny61afd7WVHVTmF_9pcr45OFDFSwLKByeQU1q9TjwKk-HsNmWVsW1eGQ4Gi-9G4pQ5DYoTxswYJ5r5dLF-kKsA1InEyrqmV3kF5pm4WQ?width=658&height=584&cropmode=none\" width=160px align=\"left\" />"
   ]
  },
  {
   "cell_type": "markdown",
   "metadata": {},
   "source": [
    "## <span style=\"color:red \"> 在古代一個百戰百勝的將軍，關鍵是他有地圖，而你需要一個儀表板\n",
    "----\n",
    "    "
   ]
  },
  {
   "cell_type": "markdown",
   "metadata": {},
   "source": [
    "### <span style=\"color:red \">以下是我們需要的量化分析套件:\n",
    "---    \n",
    "    1. Jupyter Notebook環境中，第一次安裝過就好，以後直接導入模組就好。\n",
    "    2. 如果你是在Colab的環境中運作檔案，請每次安裝"
   ]
  },
  {
   "cell_type": "markdown",
   "metadata": {},
   "source": [
    "! pip install  jupyter-dash "
   ]
  },
  {
   "cell_type": "markdown",
   "metadata": {},
   "source": [
    "### <span style=\"color:red \">設定目標股票"
   ]
  },
  {
   "cell_type": "code",
   "execution_count": 1,
   "metadata": {},
   "outputs": [],
   "source": [
    "# valid periods: 1d,5d,1mo,3mo,6mo,1y,2y,5y,10y,ytd,max\n",
    "#「YTD」 是「year to date」 的縮寫\n",
    "\n",
    "#########################################\n",
    "#請填下面三格就好\n",
    "\n",
    "目標股票代碼='2330.tw'\n",
    "期間='6mo'\n",
    "#可以空格，讓表格比較好看\n",
    "股票名稱='TSMC  '\n",
    "\n",
    "##########################################"
   ]
  },
  {
   "cell_type": "markdown",
   "metadata": {},
   "source": [
    "### <span style=\"color:red \">1.導入需求模組"
   ]
  },
  {
   "cell_type": "code",
   "execution_count": 2,
   "metadata": {},
   "outputs": [
    {
     "data": {
      "text/html": [
       "        <script type=\"text/javascript\">\n",
       "        window.PlotlyConfig = {MathJaxConfig: 'local'};\n",
       "        if (window.MathJax && window.MathJax.Hub && window.MathJax.Hub.Config) {window.MathJax.Hub.Config({SVG: {font: \"STIX-Web\"}});}\n",
       "        if (typeof require !== 'undefined') {\n",
       "        require.undef(\"plotly\");\n",
       "        requirejs.config({\n",
       "            paths: {\n",
       "                'plotly': ['https://cdn.plot.ly/plotly-2.12.1.min']\n",
       "            }\n",
       "        });\n",
       "        require(['plotly'], function(Plotly) {\n",
       "            window._Plotly = Plotly;\n",
       "        });\n",
       "        }\n",
       "        </script>\n",
       "        "
      ]
     },
     "metadata": {},
     "output_type": "display_data"
    },
    {
     "data": {
      "text/html": [
       "        <script type=\"text/javascript\">\n",
       "        window.PlotlyConfig = {MathJaxConfig: 'local'};\n",
       "        if (window.MathJax && window.MathJax.Hub && window.MathJax.Hub.Config) {window.MathJax.Hub.Config({SVG: {font: \"STIX-Web\"}});}\n",
       "        if (typeof require !== 'undefined') {\n",
       "        require.undef(\"plotly\");\n",
       "        requirejs.config({\n",
       "            paths: {\n",
       "                'plotly': ['https://cdn.plot.ly/plotly-2.12.1.min']\n",
       "            }\n",
       "        });\n",
       "        require(['plotly'], function(Plotly) {\n",
       "            window._Plotly = Plotly;\n",
       "        });\n",
       "        }\n",
       "        </script>\n",
       "        "
      ]
     },
     "metadata": {},
     "output_type": "display_data"
    }
   ],
   "source": [
    "from jupyter_dash import JupyterDash\n",
    "import dash\n",
    "from dash import dcc\n",
    "from dash import html\n",
    "import pandas as pd\n",
    "import cufflinks as cf\n",
    "cf.set_config_file(world_readable=True,theme='pearl',offline=True)"
   ]
  },
  {
   "cell_type": "markdown",
   "metadata": {},
   "source": [
    "### <span style=\"color:red \">2.取得目標股票資料"
   ]
  },
  {
   "cell_type": "code",
   "execution_count": 3,
   "metadata": {},
   "outputs": [
    {
     "data": {
      "text/html": [
       "<div>\n",
       "<style scoped>\n",
       "    .dataframe tbody tr th:only-of-type {\n",
       "        vertical-align: middle;\n",
       "    }\n",
       "\n",
       "    .dataframe tbody tr th {\n",
       "        vertical-align: top;\n",
       "    }\n",
       "\n",
       "    .dataframe thead th {\n",
       "        text-align: right;\n",
       "    }\n",
       "</style>\n",
       "<table border=\"1\" class=\"dataframe\">\n",
       "  <thead>\n",
       "    <tr style=\"text-align: right;\">\n",
       "      <th></th>\n",
       "      <th>Open</th>\n",
       "      <th>High</th>\n",
       "      <th>Low</th>\n",
       "      <th>Close</th>\n",
       "      <th>Adj Close</th>\n",
       "      <th>Volume</th>\n",
       "    </tr>\n",
       "    <tr>\n",
       "      <th>Date</th>\n",
       "      <th></th>\n",
       "      <th></th>\n",
       "      <th></th>\n",
       "      <th></th>\n",
       "      <th></th>\n",
       "      <th></th>\n",
       "    </tr>\n",
       "  </thead>\n",
       "  <tbody>\n",
       "    <tr>\n",
       "      <th>2022-10-06</th>\n",
       "      <td>450.5</td>\n",
       "      <td>451.0</td>\n",
       "      <td>447.0</td>\n",
       "      <td>451.0</td>\n",
       "      <td>446.005798</td>\n",
       "      <td>30331834</td>\n",
       "    </tr>\n",
       "    <tr>\n",
       "      <th>2022-10-07</th>\n",
       "      <td>448.5</td>\n",
       "      <td>448.5</td>\n",
       "      <td>437.0</td>\n",
       "      <td>438.0</td>\n",
       "      <td>433.149780</td>\n",
       "      <td>31941781</td>\n",
       "    </tr>\n",
       "    <tr>\n",
       "      <th>2022-10-11</th>\n",
       "      <td>408.0</td>\n",
       "      <td>412.5</td>\n",
       "      <td>401.0</td>\n",
       "      <td>401.5</td>\n",
       "      <td>397.053955</td>\n",
       "      <td>95793819</td>\n",
       "    </tr>\n",
       "    <tr>\n",
       "      <th>2022-10-12</th>\n",
       "      <td>397.0</td>\n",
       "      <td>400.0</td>\n",
       "      <td>395.5</td>\n",
       "      <td>397.5</td>\n",
       "      <td>393.098236</td>\n",
       "      <td>53570085</td>\n",
       "    </tr>\n",
       "    <tr>\n",
       "      <th>2022-10-13</th>\n",
       "      <td>400.5</td>\n",
       "      <td>403.0</td>\n",
       "      <td>395.0</td>\n",
       "      <td>395.0</td>\n",
       "      <td>390.625916</td>\n",
       "      <td>38046284</td>\n",
       "    </tr>\n",
       "    <tr>\n",
       "      <th>...</th>\n",
       "      <td>...</td>\n",
       "      <td>...</td>\n",
       "      <td>...</td>\n",
       "      <td>...</td>\n",
       "      <td>...</td>\n",
       "      <td>...</td>\n",
       "    </tr>\n",
       "    <tr>\n",
       "      <th>2023-03-28</th>\n",
       "      <td>525.0</td>\n",
       "      <td>530.0</td>\n",
       "      <td>524.0</td>\n",
       "      <td>525.0</td>\n",
       "      <td>525.000000</td>\n",
       "      <td>17234120</td>\n",
       "    </tr>\n",
       "    <tr>\n",
       "      <th>2023-03-29</th>\n",
       "      <td>533.0</td>\n",
       "      <td>533.0</td>\n",
       "      <td>525.0</td>\n",
       "      <td>530.0</td>\n",
       "      <td>530.000000</td>\n",
       "      <td>17280749</td>\n",
       "    </tr>\n",
       "    <tr>\n",
       "      <th>2023-03-30</th>\n",
       "      <td>536.0</td>\n",
       "      <td>537.0</td>\n",
       "      <td>531.0</td>\n",
       "      <td>535.0</td>\n",
       "      <td>535.000000</td>\n",
       "      <td>19201564</td>\n",
       "    </tr>\n",
       "    <tr>\n",
       "      <th>2023-03-31</th>\n",
       "      <td>538.0</td>\n",
       "      <td>538.0</td>\n",
       "      <td>532.0</td>\n",
       "      <td>533.0</td>\n",
       "      <td>533.000000</td>\n",
       "      <td>23558838</td>\n",
       "    </tr>\n",
       "    <tr>\n",
       "      <th>2023-04-06</th>\n",
       "      <td>530.0</td>\n",
       "      <td>531.0</td>\n",
       "      <td>526.0</td>\n",
       "      <td>530.0</td>\n",
       "      <td>530.000000</td>\n",
       "      <td>25595148</td>\n",
       "    </tr>\n",
       "  </tbody>\n",
       "</table>\n",
       "<p>116 rows × 6 columns</p>\n",
       "</div>"
      ],
      "text/plain": [
       "             Open   High    Low  Close   Adj Close    Volume\n",
       "Date                                                        \n",
       "2022-10-06  450.5  451.0  447.0  451.0  446.005798  30331834\n",
       "2022-10-07  448.5  448.5  437.0  438.0  433.149780  31941781\n",
       "2022-10-11  408.0  412.5  401.0  401.5  397.053955  95793819\n",
       "2022-10-12  397.0  400.0  395.5  397.5  393.098236  53570085\n",
       "2022-10-13  400.5  403.0  395.0  395.0  390.625916  38046284\n",
       "...           ...    ...    ...    ...         ...       ...\n",
       "2023-03-28  525.0  530.0  524.0  525.0  525.000000  17234120\n",
       "2023-03-29  533.0  533.0  525.0  530.0  530.000000  17280749\n",
       "2023-03-30  536.0  537.0  531.0  535.0  535.000000  19201564\n",
       "2023-03-31  538.0  538.0  532.0  533.0  533.000000  23558838\n",
       "2023-04-06  530.0  531.0  526.0  530.0  530.000000  25595148\n",
       "\n",
       "[116 rows x 6 columns]"
      ]
     },
     "execution_count": 3,
     "metadata": {},
     "output_type": "execute_result"
    }
   ],
   "source": [
    "import yfinance as yf\n",
    "prices = yf.download(\n",
    "目標股票代碼,\n",
    "period = 期間,\n",
    "progress=False\n",
    ")\n",
    "prices\n"
   ]
  },
  {
   "cell_type": "markdown",
   "metadata": {},
   "source": [
    "### <span style=\"color:red \">3.直接畫個K線圖囉!"
   ]
  },
  {
   "cell_type": "code",
   "execution_count": 4,
   "metadata": {},
   "outputs": [],
   "source": [
    "title=股票名稱+\"K線圖\"\n",
    "base= cf.QuantFig(prices, title=title,legend='top', name='日K線圖')\n",
    "base.add_volume()\n",
    "base=base.figure(up_color='#ff0000',down_color='#000000')"
   ]
  },
  {
   "cell_type": "markdown",
   "metadata": {},
   "source": [
    "### <span style=\"color:red \">4.來個SMA圖"
   ]
  },
  {
   "cell_type": "code",
   "execution_count": 5,
   "metadata": {},
   "outputs": [],
   "source": [
    "title=股票名稱+\"SMA圖\"\n",
    "SMA = cf.QuantFig(prices, title=title,legend='top', name='日K線圖')\n",
    "SMA.add_volume()\n",
    "#########################################################\n",
    "SMA.add_sma(periods=5, column='Close', color='#00b300')\n",
    "SMA.add_sma(periods=20, column='Close', color='#00b300')\n",
    "SMA.add_sma(periods=30, column='Close', color='#00b300')\n",
    "SMA.add_sma(periods=60, column='Close', color='#00b300')\n",
    "\n",
    "#########################################################\n",
    "\n",
    "SMA=SMA.figure(up_color='#ff0000',down_color='#000000')"
   ]
  },
  {
   "cell_type": "markdown",
   "metadata": {},
   "source": [
    "### <span style=\"color:red \">5.來個EMA圖"
   ]
  },
  {
   "cell_type": "code",
   "execution_count": 6,
   "metadata": {},
   "outputs": [],
   "source": [
    "title=股票名稱+\"EMA圖\"\n",
    "EMA = cf.QuantFig(prices, title=title,legend='top', name='日K線圖')\n",
    "EMA.add_volume()\n",
    "##########################################################\n",
    "EMA.add_ema(periods=5, column='Close', color='#df80ff')\n",
    "EMA.add_ema(periods=15, column='Close', color='#cc33ff')\n",
    "EMA.add_ema(periods=20, column='Close', color='#cc33ff')\n",
    "EMA.add_ema(periods=60, column='Close', color='#cc33ff')\n",
    "\n",
    "###########################################################\n",
    "\n",
    "EMA=EMA.figure(up_color='#ff0000',down_color='#000000')"
   ]
  },
  {
   "cell_type": "markdown",
   "metadata": {},
   "source": [
    "### <span style=\"color:red \">6.MACD"
   ]
  },
  {
   "cell_type": "code",
   "execution_count": 7,
   "metadata": {},
   "outputs": [],
   "source": [
    "title=股票名稱+\"MACD圖\"\n",
    "MACD = cf.QuantFig(prices, title=title,legend='top', name='日K線圖')\n",
    "#################################################################################################\n",
    "MACD.add_macd(colors=['red','blue'],fast_period=12, slow_period=26, signal_period=9)\n",
    "#################################################################################################\n",
    "\n",
    "MACD.add_volume()\n",
    "MACD=MACD.figure(up_color='#ff0000',down_color='#000000')"
   ]
  },
  {
   "cell_type": "markdown",
   "metadata": {},
   "source": [
    "### <span style=\"color:red \">7.RSI"
   ]
  },
  {
   "cell_type": "code",
   "execution_count": 8,
   "metadata": {},
   "outputs": [],
   "source": [
    "title=股票名稱+\"RSI快圖\"\n",
    "RSI1 = cf.QuantFig(prices, title=title,legend='top', name='日K線圖')\n",
    "RSI1.add_volume()\n",
    "#######################################################################################\n",
    "RSI1.add_rsi(periods=20,rsi_upper=80, rsi_lower=20,colors=['#ffaa80','#ff7733'])\n",
    "\n",
    "#######################################################################################\n",
    "RSI1=RSI1.figure(up_color='#ff0000',down_color='#000000')"
   ]
  },
  {
   "cell_type": "code",
   "execution_count": 9,
   "metadata": {},
   "outputs": [],
   "source": [
    "title=股票名稱+\"RSI慢圖\"\n",
    "RSI2 = cf.QuantFig(prices, title=title,legend='top', name='日K線圖')\n",
    "RSI2.add_volume()\n",
    "######################################################################################\n",
    "RSI2.add_rsi(periods=[30,60],rsi_upper=80, rsi_lower=20,colors=['#e64d00','#b33c00'])\n",
    "\n",
    "######################################################################################\n",
    "RSI2=RSI2.figure(up_color='#ff0000',down_color='#000000')"
   ]
  },
  {
   "cell_type": "markdown",
   "metadata": {},
   "source": [
    "### <span style=\"color:red \">8.布林通道"
   ]
  },
  {
   "cell_type": "code",
   "execution_count": 10,
   "metadata": {},
   "outputs": [],
   "source": [
    "title=股票名稱+\"布林通道圖\"\n",
    "BBands = cf.QuantFig(prices, title=title,legend='top', name='日K線圖')\n",
    "BBands.add_volume()\n",
    "################################################################\n",
    "BBands.add_bollinger_bands(periods=20, boll_std=2)\n",
    "\n",
    "################################################################\n",
    "BBands=BBands.figure(up_color='#ff0000',down_color='#000000')"
   ]
  },
  {
   "cell_type": "markdown",
   "metadata": {},
   "source": [
    "### <span style=\"color:red \">9.啟動儀表板"
   ]
  },
  {
   "cell_type": "code",
   "execution_count": 11,
   "metadata": {},
   "outputs": [
    {
     "name": "stdout",
     "output_type": "stream",
     "text": [
      "Dash app running on http://127.0.0.1:8052/\n"
     ]
    }
   ],
   "source": [
    "external_stylesheets = ['https://codepen.io/chriddyp/pen/bWLwgP.css']\n",
    "\n",
    "app = JupyterDash(__name__, external_stylesheets=external_stylesheets)\n",
    "\n",
    "# Create server variable with Flask server object for use with gunicorn\n",
    "server = app.server\n",
    "\n",
    "app.layout = html.Div([\n",
    "    \n",
    "     html.Div([\n",
    "        dcc.Graph(\n",
    "            \n",
    "            figure=base\n",
    "        )\n",
    "    ], style={'width': '100%', 'display': 'inline-block', 'padding': '1 1 1 1'}),\n",
    "    html.Div([\n",
    "        dcc.Graph(\n",
    "            \n",
    "            figure=SMA\n",
    "        )\n",
    "    ], style={'width': '50%', 'display': 'inline-block', 'padding': '1 1 1 1'}),\n",
    "    \n",
    "    html.Div([\n",
    "        dcc.Graph(\n",
    "            \n",
    "            figure=EMA\n",
    "        )\n",
    "    ], style={'width': '50%', 'display': 'inline-block', 'padding': '1 1 1 1'}),\n",
    "    \n",
    "    html.Div([\n",
    "        dcc.Graph(\n",
    "            \n",
    "            figure=MACD\n",
    "        )\n",
    "    ], style={'width': '50%', 'display': 'inline-block', 'padding': '1 1 1 1'}),\n",
    "    html.Div([\n",
    "        dcc.Graph(\n",
    "            \n",
    "            figure=BBands\n",
    "        )\n",
    "    ], style={'width': '50%', 'display': 'inline-block', 'padding': '1 1 1 1'}),\n",
    "    html.Div([\n",
    "        dcc.Graph(\n",
    "            \n",
    "            figure=RSI1\n",
    "        )\n",
    "    ], style={'width': '50%', 'display': 'inline-block', 'padding': '1 1 1 1'}),\n",
    "    html.Div([\n",
    "        dcc.Graph(\n",
    "            \n",
    "            figure=RSI2\n",
    "        )\n",
    "    ], style={'width': '50%', 'display': 'inline-block', 'padding': '1 1 1 1'}),\n",
    "    \n",
    "   \n",
    "   \n",
    "    \n",
    "])\n",
    "\n",
    "app.run_server(debug=True,port=8052)"
   ]
  },
  {
   "cell_type": "code",
   "execution_count": null,
   "metadata": {},
   "outputs": [],
   "source": []
  }
 ],
 "metadata": {
  "jupytext": {
   "formats": "ipynb,py:percent"
  },
  "kernelspec": {
   "display_name": "Python 3 (ipykernel)",
   "language": "python",
   "name": "python3"
  },
  "language_info": {
   "codemirror_mode": {
    "name": "ipython",
    "version": 3
   },
   "file_extension": ".py",
   "mimetype": "text/x-python",
   "name": "python",
   "nbconvert_exporter": "python",
   "pygments_lexer": "ipython3",
   "version": "3.9.13"
  }
 },
 "nbformat": 4,
 "nbformat_minor": 4
}
