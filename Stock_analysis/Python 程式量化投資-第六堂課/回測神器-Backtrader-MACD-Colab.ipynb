{
 "cells": [
  {
   "cell_type": "markdown",
   "metadata": {},
   "source": [
    "<h1>光頭傑夫製作</h1><img src=\"https://bl3302files.storage.live.com/y4mccLq6gAm5ULg2cdCQ-Bl3y0Lw7mmtkvcdqInwwg3MAPeDpabT_YVDs7vVN8tvdaw4meL8i33B42YbUECTNMGkmykUQOC9uJxAC6jE_XkaP7K4BTP1xFvyONy_h8LOGV_QW_2CqIwThrYu1JxnujMB7IUR3y7NLJXaXRZMQekQL80-WZuuGw7EIsdneNGUnE0?width=100&height=91&cropmode=none\" style='width:100px;margin:0'/>"
   ]
  },
  {
   "cell_type": "markdown",
   "metadata": {},
   "source": [
    "### <span style=\"color:red \">設定目標股票\n",
    "----\n",
    "### [查詢股票代碼](https://tw.stock.yahoo.com/h/kimosel.php)"
   ]
  },
  {
   "cell_type": "code",
   "execution_count": null,
   "metadata": {},
   "outputs": [],
   "source": [
    "#########################################\n",
    "#請填下面資料\n",
    "from datetime import date,timedelta\n",
    "目標股票代碼='2330.tw'\n",
    "分析開始日期='2021-1-1'\n",
    "分析結束日期=str(date.today() + timedelta(1))\n",
    "\n",
    "#設立投資本金\n",
    "#你可以根據你想要模擬的投資標的股價作適當調整\n",
    "cash=10000000\n",
    "\n",
    "##########################################"
   ]
  },
  {
   "cell_type": "markdown",
   "metadata": {},
   "source": [
    "### <span style=\"color:red \">Colab安裝套件"
   ]
  },
  {
   "cell_type": "code",
   "execution_count": null,
   "metadata": {},
   "outputs": [],
   "source": [
    "! pip install matplotlib==3.2.2\n",
    "! pip install backtrader\n",
    "! pip install yfinance"
   ]
  },
  {
   "cell_type": "code",
   "execution_count": null,
   "metadata": {},
   "outputs": [],
   "source": [
    "import matplotlib\n",
    "matplotlib.__version__"
   ]
  },
  {
   "cell_type": "markdown",
   "metadata": {},
   "source": [
    "### <span style=\"color:red \">以下是我們後續輸出分析結果需要的方程式:\n",
    "---    \n",
    "    1. 每次你要輸出策略的績效結果時，下面這格你都要跑"
   ]
  },
  {
   "cell_type": "code",
   "execution_count": null,
   "metadata": {},
   "outputs": [],
   "source": [
    "def printTradeAnalysis(analyzer):\n",
    "    '''\n",
    "    Function to print the Technical Analysis results in a nice format.\n",
    "    '''\n",
    "    #Get the results we are interested in\n",
    "    total_closed = ''\n",
    "    total_won =''\n",
    "    total_lost =''\n",
    "    win_streak = ''\n",
    "    lose_streak = ''\n",
    "    pnl_net =''\n",
    "    strike_rate =''\n",
    "    \n",
    "    if len(analyzer.total)>2:\n",
    "        total_closed = analyzer.total.closed\n",
    "        total_won = analyzer.won.total\n",
    "        total_lost = analyzer.lost.total\n",
    "        win_streak = analyzer.streak.won.longest\n",
    "        lose_streak = analyzer.streak.lost.longest\n",
    "        pnl_net = round(analyzer.pnl.net.total,2)\n",
    "    \n",
    "    if total_closed:\n",
    "        strike_rate=round((total_won / total_closed) * 100,2)\n",
    "    else:\n",
    "        strike_rate='沒有完整交易'\n",
    "    print(\"策略運作分析結果:\")\n",
    "    print(f'獲利累積次數 : {str(total_won)}')\n",
    "    print(f'損失累積次數 : {str(total_lost)}')\n",
    "    print(f'獲利損失次數比 : {str(strike_rate)}')\n",
    "    print(f'最高連續獲利交易次數 : {str(win_streak)}')\n",
    "    print(f'最高連續損失交易次數 : {str(lose_streak)}')\n",
    "    print(f'淨利結算 : {str(pnl_net)}')\n",
    "    "
   ]
  },
  {
   "cell_type": "markdown",
   "metadata": {},
   "source": [
    "## <span style=\"color:red \">  <策略1-with Commision>用MACD做個回測策略吧!"
   ]
  },
  {
   "cell_type": "markdown",
   "metadata": {},
   "source": [
    "### <span style=\"color:red \"><策略1.1- with Commision>導入需求模組"
   ]
  },
  {
   "cell_type": "code",
   "execution_count": null,
   "metadata": {},
   "outputs": [],
   "source": [
    "from datetime import datetime\n",
    "import pandas as pd\n",
    "import yfinance as yf\n",
    "import backtrader as bt"
   ]
  },
  {
   "cell_type": "markdown",
   "metadata": {},
   "source": [
    "### <span style=\"color:red \"><策略1.2- with Commision>建立交易策略"
   ]
  },
  {
   "cell_type": "code",
   "execution_count": null,
   "metadata": {},
   "outputs": [],
   "source": [
    "class MACDStrategy(bt.Strategy):\n",
    "   \n",
    "    # Standard MACD Parameters\n",
    "    params = dict(\n",
    "        macd1=12, \n",
    "        macd2=26,\n",
    "        macdsig=9\n",
    "        \n",
    "    )\n",
    "\n",
    "    def __init__(self):\n",
    "        self.macd = bt.indicators.MACD(self.data,\n",
    "                                       period_me1=self.p.macd1,\n",
    "                                       period_me2=self.p.macd2,\n",
    "                                       period_signal=self.p.macdsig)\n",
    "\n",
    "        # Cross of macd.macd and macd.signal\n",
    "        self.mcross = bt.indicators.CrossOver(self.macd.macd, self.macd.signal)\n",
    "        self.order = None\n",
    "\n",
    "    def log(self, txt):\n",
    "        '''Logging function'''\n",
    "        dt = self.datas[0].datetime.date(0).isoformat()\n",
    "        print(f'{dt}, {txt}')\n",
    "\n",
    "    def notify_order(self, order):\n",
    "        if order.status in [order.Submitted, order.Accepted]:\n",
    "            # order already submitted/accepted - no action required\n",
    "            return\n",
    "\n",
    "        # report executed order\n",
    "        if order.status in [order.Completed]:\n",
    "            if order.isbuy():\n",
    "                self.log(f'買單執行 --- 買價: {order.executed.price:.2f}, 成本: {order.executed.value:.2f}, 手續費: {order.executed.comm:.2f}')\n",
    "                self.price = order.executed.price\n",
    "                self.comm = order.executed.comm\n",
    "            else:\n",
    "                self.log(f'賣單執行 --- 賣價: {order.executed.price:.2f}, 成本: {order.executed.value:.2f}, 手續費: {order.executed.comm:.2f}')\n",
    "\n",
    "        # report failed order\n",
    "        elif order.status in [order.Canceled, order.Margin, order.Rejected]:\n",
    "            self.log('交易失敗')\n",
    "\n",
    "        # set no pending order\n",
    "        self.order = None\n",
    "\n",
    "    def notify_trade(self, trade):\n",
    "        if not trade.isclosed:\n",
    "            return\n",
    "\n",
    "        self.log(f'運作結果 --- 獲利狀況: {trade.pnl:.2f}, 淨獲利: {trade.pnlcomm:.2f}')\n",
    "\n",
    "    def next(self):\n",
    "        # do nothing if an order is pending\n",
    "        if self.order:\n",
    "            return\n",
    "\n",
    "        # check if there is already a position\n",
    "        if not self.position:\n",
    "            if self.mcross[0] > 0.0: \n",
    "                self.log(f'開出買單 --- 當時市場價格: {self.data_close[0]:.2f}')\n",
    "                self.order = self.buy(size=1000)\n",
    "\n",
    "        else:\n",
    "            # sell condition\n",
    "            if self.mcross[0] < 0.0:\n",
    "                self.log(f'開出賣單 --- 當時市場價格: {self.data_close[0]:.2f}')\n",
    "                self.order = self.sell(size=1000)"
   ]
  },
  {
   "cell_type": "markdown",
   "metadata": {},
   "source": [
    "### <span style=\"color:red \"><策略1.3- with Commision>抓取目標股票的歷史資料"
   ]
  },
  {
   "cell_type": "code",
   "execution_count": null,
   "metadata": {},
   "outputs": [],
   "source": [
    "data= yf.download(  目標股票代碼,              #股票代碼\n",
    "                    start=分析開始日期,      #資料開始日期\n",
    "                    end=分析結束日期,         #資料結束日期\n",
    "                    progress=False\n",
    "                 )\n",
    "data=bt.feeds.PandasData(dataname=pd.DataFrame({'open': data['Open'], \n",
    "                   'high': data['High'],\n",
    "                   'low': data['Low'],\n",
    "                   'close': data['Close'],\n",
    "                   'volume': data['Volume'],\n",
    "                  }))\n"
   ]
  },
  {
   "cell_type": "markdown",
   "metadata": {},
   "source": [
    "### <span style=\"color:red \"><策略1.4- with Commision>建立台股交易費用計算模式"
   ]
  },
  {
   "cell_type": "code",
   "execution_count": null,
   "metadata": {},
   "outputs": [],
   "source": [
    "class TWStockCommisionScheme(bt.CommInfoBase):\n",
    "    params = (\n",
    "        \n",
    "         ('stocklike', True),\n",
    "         ('commtype', bt.CommInfoBase.COMM_PERC),\n",
    "         ('percabs', True),\n",
    "         ('discount', 0.3),\n",
    "         ('tax',0.003),\n",
    "         ('lowestfee',20)\n",
    "        )\n",
    "\n",
    "    def _getcommission(self, size, price, pseudoexec):\n",
    "          if size>0:\n",
    "            return max(self.p.lowestfee,size * price * self.p.commission * self.p.discount)\n",
    "          else:\n",
    "            return (max(self.p.lowestfee,-(size * price * self.p.commission * self.p.discount))-size * price *self.p.tax)\n"
   ]
  },
  {
   "cell_type": "markdown",
   "metadata": {},
   "source": [
    "### <span style=\"color:red \"><策略1.5- with Commision>建立回測分析「大腦」"
   ]
  },
  {
   "cell_type": "code",
   "execution_count": null,
   "metadata": {},
   "outputs": [],
   "source": [
    "# create a Cerebro entity\n",
    "cerebro = bt.Cerebro()\n",
    "\n",
    "# set up the backtest\n",
    "cerebro.adddata(data)\n",
    "cerebro.broker.setcash(cash)\n",
    "cerebro.addstrategy(MACDStrategy)\n",
    "\n",
    "#commission手續費 0.1425%\n",
    "#discount 你可以拿到的手續費折數\n",
    "#tax=0.003 證券交易稅率\n",
    "comminfo = TWStockCommisionScheme(\n",
    "    commission=0.001425,  \n",
    "    discount=0.5,\n",
    "    tax=0.003,\n",
    "    lowestfee=20\n",
    ")\n",
    "\n",
    "cerebro.broker.addcommissioninfo(comminfo)\n"
   ]
  },
  {
   "cell_type": "markdown",
   "metadata": {},
   "source": [
    "### <span style=\"color:red \"><策略1.6- with Commision>讓Analyzers來幫我診斷策略細節...-開始回測"
   ]
  },
  {
   "cell_type": "code",
   "execution_count": null,
   "metadata": {
    "scrolled": false
   },
   "outputs": [],
   "source": [
    "cerebro.addanalyzer(bt.analyzers.TradeAnalyzer, _name=\"ta\")\n",
    "\n",
    "strategies = cerebro.run()\n",
    "firstStrat = strategies[0]\n",
    "\n",
    "# print the analyzers\n",
    "printTradeAnalysis(firstStrat.analyzers.ta.get_analysis())\n",
    "print(f'持有資產總值: {cerebro.broker.getvalue():.2f}')"
   ]
  },
  {
   "cell_type": "markdown",
   "metadata": {},
   "source": [
    "### <span style=\"color:red \"><策略1.7- with Commision>畫張圖勝過千言萬語!-圖形化表達"
   ]
  },
  {
   "cell_type": "code",
   "execution_count": null,
   "metadata": {},
   "outputs": [],
   "source": [
    "import matplotlib.pyplot as plt\n",
    "%matplotlib inline\n",
    "\n",
    "plt.rcParams['figure.dpi']=80\n",
    "cerebro.plot(iplot=False)"
   ]
  },
  {
   "cell_type": "markdown",
   "metadata": {},
   "source": [
    "## <span style=\"color:red \"><策略2- with Commision>我們想要來個參數特調MACD看看效果怎麼樣?\n",
    "--------"
   ]
  },
  {
   "cell_type": "markdown",
   "metadata": {},
   "source": [
    "### <span style=\"color:red \"><策略2.2- with Commision>建立交易策略"
   ]
  },
  {
   "cell_type": "code",
   "execution_count": null,
   "metadata": {},
   "outputs": [],
   "source": [
    "class MACDStrategy(bt.Strategy):\n",
    "    # Standard MACD Parameters\n",
    "    params = dict(\n",
    "        macd1=12, \n",
    "        macd2=26,\n",
    "        macdsig=9,\n",
    "        totalValue=''\n",
    "    )\n",
    "    def __init__(self):\n",
    "        self.macd = bt.indicators.MACD(self.data,\n",
    "                                       period_me1=self.p.macd1,\n",
    "                                       period_me2=self.p.macd2,\n",
    "                                       period_signal=self.p.macdsig)\n",
    "\n",
    "        # Cross of macd.macd and macd.signal\n",
    "        self.mcross = bt.indicators.CrossOver(self.macd.macd, self.macd.signal)\n",
    "        self.order = None\n",
    "\n",
    "    def log(self, txt):\n",
    "        '''Logging function'''\n",
    "        dt = self.datas[0].datetime.date(0).isoformat()\n",
    "        print(f'{dt}, {txt}')\n",
    "\n",
    "    def notify_order(self, order):\n",
    "        if order.status in [order.Submitted, order.Accepted]:\n",
    "            # order already submitted/accepted - no action required\n",
    "            return\n",
    "        # set no pending order\n",
    "        self.order = None\n",
    "\n",
    "    def notify_trade(self, trade):\n",
    "        if not trade.isclosed:\n",
    "            return\n",
    "\n",
    "    def next(self):\n",
    "        # do nothing if an order is pending\n",
    "        if self.order:\n",
    "            return\n",
    "\n",
    "        # check if there is already a position\n",
    "        if not self.position:\n",
    "            if self.mcross[0] > 0.0: \n",
    "                self.order = self.buy(size=1000)\n",
    "\n",
    "        else:\n",
    "            # sell condition\n",
    "            if self.mcross[0] < 0.0:\n",
    "                self.order = self.sell(size=1000)\n",
    "    def stop(self):\n",
    "        self.log(f'(紅線週期組合=({self.params.macd1:2d}天,{self.params.macd2:2d}天)---藍線週期設定 = {self.params.macdsig:2d}天) --- 淨利數值: {self.broker.getvalue()-cash:.2f}')\n",
    "        self.params.totalValue=self.broker.getvalue()"
   ]
  },
  {
   "cell_type": "markdown",
   "metadata": {},
   "source": [
    "### <span style=\"color:red \"><策略2.4- with Commision>建立台股交易費用計算模式"
   ]
  },
  {
   "cell_type": "code",
   "execution_count": null,
   "metadata": {},
   "outputs": [],
   "source": [
    "class TWStockCommisionScheme(bt.CommInfoBase):\n",
    "    params = (\n",
    "        \n",
    "         ('stocklike', True),\n",
    "         ('commtype', bt.CommInfoBase.COMM_PERC),\n",
    "         ('percabs', True),\n",
    "         ('discount', 0.3),\n",
    "         ('tax',0.003),\n",
    "         ('lowestfee',20)\n",
    "        )\n",
    "\n",
    "    def _getcommission(self, size, price, pseudoexec):\n",
    "          if size>0:\n",
    "            return max(self.p.lowestfee,size * price * self.p.commission * self.p.discount)\n",
    "          else:\n",
    "            return (max(self.p.lowestfee,-(size * price * self.p.commission * self.p.discount))-size * price *self.p.tax)"
   ]
  },
  {
   "cell_type": "markdown",
   "metadata": {},
   "source": [
    "### <span style=\"color:red \"><策略2.5- with Commision>建立回測分析「大腦」,讓Analyzers來幫我診斷策略細節...-開始回測"
   ]
  },
  {
   "cell_type": "code",
   "execution_count": null,
   "metadata": {
    "scrolled": false
   },
   "outputs": [],
   "source": [
    "# create a Cerebro entity\n",
    "cerebro = bt.Cerebro()\n",
    "cerebro.optstrategy(MACDStrategy,macd1=[5,7,8],macd2=[30,35],macdsig=[12,13])\n",
    "cerebro.adddata(data)\n",
    "cerebro.broker.setcash(cash)\n",
    "\n",
    "#commission手續費 0.1425%\n",
    "#discount 你可以拿到的手續費折數\n",
    "#tax=0.003 證券交易稅率\n",
    "comminfo = TWStockCommisionScheme(\n",
    "    commission=0.001425,  \n",
    "    discount=0.5,\n",
    "    tax=0.003,\n",
    "    lowestfee=20\n",
    ")\n",
    "\n",
    "\n",
    "cerebro.broker.addcommissioninfo(comminfo)\n",
    "\n",
    "cerebro.addanalyzer(bt.analyzers.TradeAnalyzer,_name=\"ta\")\n",
    "\n",
    "opt_runs = cerebro.run(maxcpus=1)\n",
    "\n",
    "\n",
    "for run in opt_runs:\n",
    "    for strategy in run:\n",
    "        print(f'紅線週期組合=({strategy.params.macd1:2d}天,{strategy.params.macd2:2d}天)---藍線週期設定 = {strategy.params.macdsig:2d}天)')\n",
    "        try:\n",
    "            printTradeAnalysis(strategy.analyzers.ta.get_analysis())\n",
    "        except KeyError :\n",
    "            print('沒有交易發生')\n",
    "        print(f'持有資產總值: {strategy.params.totalValue:.2f}')\n",
    "        print('--------------------------------------------------------')"
   ]
  },
  {
   "cell_type": "code",
   "execution_count": null,
   "metadata": {},
   "outputs": [],
   "source": []
  },
  {
   "cell_type": "markdown",
   "metadata": {},
   "source": [
    "  "
   ]
  },
  {
   "cell_type": "markdown",
   "metadata": {},
   "source": [
    "  "
   ]
  },
  {
   "cell_type": "markdown",
   "metadata": {},
   "source": [
    "  "
   ]
  },
  {
   "cell_type": "markdown",
   "metadata": {},
   "source": [
    "  "
   ]
  }
 ],
 "metadata": {
  "kernelspec": {
   "display_name": "Python 3 (ipykernel)",
   "language": "python",
   "name": "python3"
  },
  "language_info": {
   "codemirror_mode": {
    "name": "ipython",
    "version": 3
   },
   "file_extension": ".py",
   "mimetype": "text/x-python",
   "name": "python",
   "nbconvert_exporter": "python",
   "pygments_lexer": "ipython3",
   "version": "3.9.13"
  }
 },
 "nbformat": 4,
 "nbformat_minor": 4
}
