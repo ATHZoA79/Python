{
 "cells": [
  {
   "cell_type": "markdown",
   "metadata": {},
   "source": [
    "<h1>光頭傑夫製作</h1><img src=\"https://bl3302files.storage.live.com/y4mccLq6gAm5ULg2cdCQ-Bl3y0Lw7mmtkvcdqInwwg3MAPeDpabT_YVDs7vVN8tvdaw4meL8i33B42YbUECTNMGkmykUQOC9uJxAC6jE_XkaP7K4BTP1xFvyONy_h8LOGV_QW_2CqIwThrYu1JxnujMB7IUR3y7NLJXaXRZMQekQL80-WZuuGw7EIsdneNGUnE0?width=100&height=91&cropmode=none\" style='width:160px;margin:0'/>"
   ]
  },
  {
   "cell_type": "markdown",
   "metadata": {},
   "source": [
    "### <span style=\"color:red \">Colab安裝套件"
   ]
  },
  {
   "cell_type": "code",
   "execution_count": null,
   "metadata": {},
   "outputs": [],
   "source": [
    "! pip install yfinance"
   ]
  },
  {
   "cell_type": "code",
   "execution_count": null,
   "metadata": {},
   "outputs": [],
   "source": [
    "! pip install jupyter-dash"
   ]
  },
  {
   "cell_type": "markdown",
   "metadata": {},
   "source": [
    "### <span style=\"color:red \">設定目標股票"
   ]
  },
  {
   "cell_type": "code",
   "execution_count": null,
   "metadata": {},
   "outputs": [],
   "source": [
    "# valid periods: 1d,5d,1mo,3mo,6mo,1y,2y,5y,10y,ytd,max\n",
    "#「YTD」 是「year to date」 的縮寫\n",
    "\n",
    "#########################################\n",
    "#請填下面三格\n",
    "\n",
    "目標股票代碼='2330.tw'\n",
    "期間='2y'\n",
    "股票名稱='台積電'\n",
    "\n",
    "##########################################"
   ]
  },
  {
   "cell_type": "markdown",
   "metadata": {},
   "source": [
    "### <span style=\"color:red \">1.導入需求模組"
   ]
  },
  {
   "cell_type": "code",
   "execution_count": null,
   "metadata": {
    "scrolled": true
   },
   "outputs": [],
   "source": [
    "from jupyter_dash import JupyterDash\n",
    "import dash\n",
    "import dash_core_components as dcc\n",
    "import dash_html_components as html\n",
    "import pandas as pd\n",
    "import cufflinks as cf\n",
    "cf.set_config_file(world_readable=True,theme='pearl',offline=True)\n",
    "JupyterDash.infer_jupyter_proxy_config()"
   ]
  },
  {
   "cell_type": "markdown",
   "metadata": {},
   "source": [
    "### <span style=\"color:red \">2.取得目標股票資料"
   ]
  },
  {
   "cell_type": "code",
   "execution_count": null,
   "metadata": {},
   "outputs": [],
   "source": [
    "import yfinance as yf\n",
    "prices = yf.download(\n",
    "目標股票代碼,\n",
    "period = 期間,\n",
    "progress=False\n",
    ")\n",
    "prices\n"
   ]
  },
  {
   "cell_type": "markdown",
   "metadata": {},
   "source": [
    "### <span style=\"color:red \">3.直接畫個K線圖囉!"
   ]
  },
  {
   "cell_type": "code",
   "execution_count": null,
   "metadata": {},
   "outputs": [],
   "source": [
    "title=股票名稱+\"K線圖\"\n",
    "base= cf.QuantFig(prices, title=title,legend='top', name='日K線圖')\n",
    "base.add_volume()\n",
    "base=base.figure(up_color='#ff0000',down_color='#000000')"
   ]
  },
  {
   "cell_type": "markdown",
   "metadata": {},
   "source": [
    "### <span style=\"color:red \">4.來個SMA圖"
   ]
  },
  {
   "cell_type": "code",
   "execution_count": null,
   "metadata": {},
   "outputs": [],
   "source": [
    "title=股票名稱+\"SMA圖\"\n",
    "SMA = cf.QuantFig(prices, title=title,legend='top', name='日K線圖')\n",
    "SMA.add_volume()\n",
    "SMA.add_sma(periods=5, column='Close', color='#66ff66')\n",
    "SMA.add_sma(periods=20, column='Close', color='#00ff00')\n",
    "SMA.add_sma(periods=60, column='Close', color='#00b300')\n",
    "SMA.add_sma(periods=240, column='Close', color='#006600')\n",
    "SMA=SMA.figure(up_color='#ff0000',down_color='#000000')"
   ]
  },
  {
   "cell_type": "markdown",
   "metadata": {},
   "source": [
    "### <span style=\"color:red \">5.來個EMA圖"
   ]
  },
  {
   "cell_type": "code",
   "execution_count": null,
   "metadata": {},
   "outputs": [],
   "source": [
    "title=股票名稱+\"EMA圖\"\n",
    "EMA = cf.QuantFig(prices, title=title,legend='top', name='日K線圖')\n",
    "EMA.add_volume()\n",
    "EMA.add_ema(periods=5, column='Close', color='#df80ff')\n",
    "EMA.add_ema(periods=20, column='Close', color='#cc33ff')\n",
    "EMA.add_ema(periods=60, column='Close', color='#ac00e6')\n",
    "EMA.add_ema(periods=240, column='Close', color='#8600b3')\n",
    "EMA=EMA.figure(up_color='#ff0000',down_color='#000000')"
   ]
  },
  {
   "cell_type": "markdown",
   "metadata": {},
   "source": [
    "### <span style=\"color:red \">6.MACD"
   ]
  },
  {
   "cell_type": "code",
   "execution_count": null,
   "metadata": {},
   "outputs": [],
   "source": [
    "title=股票名稱+\"MACD圖\"\n",
    "MACD = cf.QuantFig(prices, title=title,legend='top', name='日K線圖')\n",
    "MACD.add_macd(colors=['red','blue'],fast_period=12, slow_period=26, signal_period=9)\n",
    "MACD.add_volume()\n",
    "MACD=MACD.figure(up_color='#ff0000',down_color='#000000')"
   ]
  },
  {
   "cell_type": "markdown",
   "metadata": {},
   "source": [
    "### <span style=\"color:red \">7.RSI"
   ]
  },
  {
   "cell_type": "code",
   "execution_count": null,
   "metadata": {},
   "outputs": [],
   "source": [
    "title=股票名稱+\"RSI快圖\"\n",
    "RSI1 = cf.QuantFig(prices, title=title,legend='top', name='日K線圖')\n",
    "RSI1.add_volume()\n",
    "RSI1.add_rsi(periods=[5,20],rsi_upper=80, rsi_lower=20,colors=['#ffaa80','#ff7733'])\n",
    "RSI1=RSI1.figure(up_color='#ff0000',down_color='#000000')"
   ]
  },
  {
   "cell_type": "code",
   "execution_count": null,
   "metadata": {},
   "outputs": [],
   "source": [
    "title=股票名稱+\"RSI慢圖\"\n",
    "RSI2 = cf.QuantFig(prices, title=title,legend='top', name='日K線圖')\n",
    "RSI2.add_volume()\n",
    "RSI2.add_rsi(periods=[60,240],rsi_upper=80, rsi_lower=20,colors=['#e64d00','#b33c00'])\n",
    "RSI2=RSI2.figure(up_color='#ff0000',down_color='#000000')"
   ]
  },
  {
   "cell_type": "markdown",
   "metadata": {},
   "source": [
    "### <span style=\"color:red \">8.布林通道"
   ]
  },
  {
   "cell_type": "code",
   "execution_count": null,
   "metadata": {},
   "outputs": [],
   "source": [
    "title=股票名稱+\"布林通道圖\"\n",
    "BBands = cf.QuantFig(prices, title=title,legend='top', name='日K線圖')\n",
    "BBands.add_volume()\n",
    "BBands.add_bollinger_bands(periods=20, boll_std=2)\n",
    "BBands=BBands.figure(up_color='#ff0000',down_color='#000000')"
   ]
  },
  {
   "cell_type": "markdown",
   "metadata": {},
   "source": [
    "### <span style=\"color:red \">9.啟動儀表板"
   ]
  },
  {
   "cell_type": "code",
   "execution_count": null,
   "metadata": {},
   "outputs": [],
   "source": [
    "external_stylesheets = ['https://codepen.io/chriddyp/pen/bWLwgP.css']\n",
    "\n",
    "app = JupyterDash(__name__, external_stylesheets=external_stylesheets)\n",
    "\n",
    "# Create server variable with Flask server object for use with gunicorn\n",
    "server = app.server\n",
    "\n",
    "app.layout = html.Div([\n",
    "    \n",
    "     html.Div([\n",
    "        dcc.Graph(\n",
    "            \n",
    "            figure=base\n",
    "        )\n",
    "    ], style={'width': '100%', 'display': 'inline-block', 'padding': '1 1 1 1'}),\n",
    "    html.Div([\n",
    "        dcc.Graph(\n",
    "            \n",
    "            figure=SMA\n",
    "        )\n",
    "    ], style={'width': '50%', 'display': 'inline-block', 'padding': '1 1 1 1'}),\n",
    "    html.Div([\n",
    "        dcc.Graph(\n",
    "            \n",
    "            figure=EMA\n",
    "        )\n",
    "    ], style={'width': '50%', 'display': 'inline-block', 'padding': '1 1 1 1'}),\n",
    "    html.Div([\n",
    "        dcc.Graph(\n",
    "            \n",
    "            figure=MACD\n",
    "        )\n",
    "    ], style={'width': '50%', 'display': 'inline-block', 'padding': '1 1 1 1'}),\n",
    "    html.Div([\n",
    "        dcc.Graph(\n",
    "            \n",
    "            figure=BBands\n",
    "        )\n",
    "    ], style={'width': '50%', 'display': 'inline-block', 'padding': '1 1 1 1'}),\n",
    "    html.Div([\n",
    "        dcc.Graph(\n",
    "            \n",
    "            figure=RSI1\n",
    "        )\n",
    "    ], style={'width': '50%', 'display': 'inline-block', 'padding': '1 1 1 1'}),\n",
    "    html.Div([\n",
    "        dcc.Graph(\n",
    "            \n",
    "            figure=RSI2\n",
    "        )\n",
    "    ], style={'width': '50%', 'display': 'inline-block', 'padding': '1 1 1 1'}),\n",
    "    \n",
    "   \n",
    "   \n",
    "    \n",
    "])\n",
    "\n",
    "app.run_server(debug=True,port=8050)"
   ]
  }
 ],
 "metadata": {
  "jupytext": {
   "formats": "ipynb,py:percent"
  },
  "kernelspec": {
   "display_name": "Python 3 (ipykernel)",
   "language": "python",
   "name": "python3"
  },
  "language_info": {
   "codemirror_mode": {
    "name": "ipython",
    "version": 3
   },
   "file_extension": ".py",
   "mimetype": "text/x-python",
   "name": "python",
   "nbconvert_exporter": "python",
   "pygments_lexer": "ipython3",
   "version": "3.9.13"
  }
 },
 "nbformat": 4,
 "nbformat_minor": 4
}
