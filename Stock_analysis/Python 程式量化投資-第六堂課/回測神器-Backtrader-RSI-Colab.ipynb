{
 "cells": [
  {
   "cell_type": "markdown",
   "metadata": {},
   "source": [
    "<h1>光頭傑夫製作</h1><img src=\"https://bl3302files.storage.live.com/y4mccLq6gAm5ULg2cdCQ-Bl3y0Lw7mmtkvcdqInwwg3MAPeDpabT_YVDs7vVN8tvdaw4meL8i33B42YbUECTNMGkmykUQOC9uJxAC6jE_XkaP7K4BTP1xFvyONy_h8LOGV_QW_2CqIwThrYu1JxnujMB7IUR3y7NLJXaXRZMQekQL80-WZuuGw7EIsdneNGUnE0?width=100&height=91&cropmode=none\" style='width:100px;margin:0'/>"
   ]
  },
  {
   "cell_type": "markdown",
   "metadata": {},
   "source": [
    "### <span style=\"color:red \">設定目標股票\n",
    "----\n",
    "### [查詢股票代碼](https://tw.stock.yahoo.com/h/kimosel.php)"
   ]
  },
  {
   "cell_type": "code",
   "execution_count": 1,
   "metadata": {},
   "outputs": [],
   "source": [
    "#########################################\n",
    "#請填下面資料\n",
    "from datetime import date,timedelta\n",
    "目標股票代碼='2330.tw'\n",
    "分析開始日期='2021-1-1'\n",
    "分析結束日期=str(date.today() + timedelta(1))\n",
    "\n",
    "#設立投資本金\n",
    "#你可以根據你想要模擬的投資標的股價作適當調整\n",
    "cash=10000000\n",
    "\n",
    "##########################################"
   ]
  },
  {
   "cell_type": "markdown",
   "metadata": {},
   "source": [
    "### <span style=\"color:red \">Colab安裝套件"
   ]
  },
  {
   "cell_type": "code",
   "execution_count": 2,
   "metadata": {},
   "outputs": [
    {
     "name": "stdout",
     "output_type": "stream",
     "text": [
      "Requirement already satisfied: backtrader in c:\\users\\kelly\\anaconda3\\lib\\site-packages (1.9.76.123)\n",
      "Requirement already satisfied: yfinance in c:\\users\\kelly\\anaconda3\\lib\\site-packages (0.1.60)\n",
      "Requirement already satisfied: multitasking>=0.0.7 in c:\\users\\kelly\\anaconda3\\lib\\site-packages (from yfinance) (0.0.9)\n",
      "Requirement already satisfied: pandas>=0.24 in c:\\users\\kelly\\anaconda3\\lib\\site-packages (from yfinance) (1.2.5)\n",
      "Requirement already satisfied: requests>=2.20 in c:\\users\\kelly\\anaconda3\\lib\\site-packages (from yfinance) (2.25.1)\n",
      "Requirement already satisfied: numpy>=1.15 in c:\\users\\kelly\\anaconda3\\lib\\site-packages (from yfinance) (1.20.2)\n",
      "Requirement already satisfied: lxml>=4.5.1 in c:\\users\\kelly\\anaconda3\\lib\\site-packages (from yfinance) (4.6.3)\n",
      "Requirement already satisfied: pytz>=2017.3 in c:\\users\\kelly\\anaconda3\\lib\\site-packages (from pandas>=0.24->yfinance) (2021.1)\n",
      "Requirement already satisfied: python-dateutil>=2.7.3 in c:\\users\\kelly\\anaconda3\\lib\\site-packages (from pandas>=0.24->yfinance) (2.8.1)\n",
      "Requirement already satisfied: six>=1.5 in c:\\users\\kelly\\anaconda3\\lib\\site-packages (from python-dateutil>=2.7.3->pandas>=0.24->yfinance) (1.16.0)\n",
      "Requirement already satisfied: idna<3,>=2.5 in c:\\users\\kelly\\anaconda3\\lib\\site-packages (from requests>=2.20->yfinance) (2.10)\n",
      "Requirement already satisfied: urllib3<1.27,>=1.21.1 in c:\\users\\kelly\\anaconda3\\lib\\site-packages (from requests>=2.20->yfinance) (1.26.6)\n",
      "Requirement already satisfied: chardet<5,>=3.0.2 in c:\\users\\kelly\\anaconda3\\lib\\site-packages (from requests>=2.20->yfinance) (4.0.0)\n",
      "Requirement already satisfied: certifi>=2017.4.17 in c:\\users\\kelly\\anaconda3\\lib\\site-packages (from requests>=2.20->yfinance) (2021.5.30)\n"
     ]
    }
   ],
   "source": [
    "! pip install matplotlib==3.2.2\n",
    "! pip install backtrader\n",
    "! pip install yfinance"
   ]
  },
  {
   "cell_type": "code",
   "execution_count": null,
   "metadata": {},
   "outputs": [],
   "source": [
    "import matplotlib\n",
    "matplotlib.__version__"
   ]
  },
  {
   "cell_type": "markdown",
   "metadata": {},
   "source": [
    "### <span style=\"color:red \">以下是我們後續輸出分析結果需要的方程式:\n",
    "---    \n",
    "    1. 每次你要輸出策略的績效結果時，下面這格你都要跑"
   ]
  },
  {
   "cell_type": "code",
   "execution_count": 3,
   "metadata": {},
   "outputs": [],
   "source": [
    "def printTradeAnalysis(analyzer):\n",
    "    '''\n",
    "    Function to print the Technical Analysis results in a nice format.\n",
    "    '''\n",
    "    #Get the results we are interested in\n",
    "    total_closed = ''\n",
    "    total_won =''\n",
    "    total_lost =''\n",
    "    win_streak = ''\n",
    "    lose_streak = ''\n",
    "    pnl_net =''\n",
    "    strike_rate =''\n",
    "    \n",
    "    if len(analyzer.total)>2:\n",
    "        total_closed = analyzer.total.closed\n",
    "        total_won = analyzer.won.total\n",
    "        total_lost = analyzer.lost.total\n",
    "        win_streak = analyzer.streak.won.longest\n",
    "        lose_streak = analyzer.streak.lost.longest\n",
    "        pnl_net = round(analyzer.pnl.net.total,2)\n",
    "    \n",
    "    if total_closed:\n",
    "        strike_rate=round((total_won / total_closed) * 100,2)\n",
    "    else:\n",
    "        strike_rate='沒有完整交易'\n",
    "    print(\"策略運作分析結果:\")\n",
    "    print(f'獲利累積次數 : {str(total_won)}')\n",
    "    print(f'損失累積次數 : {str(total_lost)}')\n",
    "    print(f'獲利損失次數比 : {str(strike_rate)}')\n",
    "    print(f'最高連續獲利交易次數 : {str(win_streak)}')\n",
    "    print(f'最高連續損失交易次數 : {str(lose_streak)}')\n",
    "    print(f'淨利結算 : {str(pnl_net)}')\n",
    "    "
   ]
  },
  {
   "cell_type": "markdown",
   "metadata": {},
   "source": [
    "## <span style=\"color:red \">  <策略1-with Commision>用RSI，來做個簡單的回測策略吧!\n",
    "---\n",
    "### 先回想一下，你還記的20-day RSI是什麼意思嗎?\n",
    "    \n",
    "    我們測定策略如下:\n",
    "    1.如果今天的20-day RSI<20，那我們就買進一股的股票。\n",
    "    2.如果今天的20-day RSI>80，那我們就賣掉一股的股票。\n",
    "    3.任何時候，我們手上最多就一股股票。\n",
    "    \n",
    "    "
   ]
  },
  {
   "cell_type": "markdown",
   "metadata": {},
   "source": [
    "### <span style=\"color:red \"><策略1.1- with Commision>導入需求模組"
   ]
  },
  {
   "cell_type": "code",
   "execution_count": 4,
   "metadata": {},
   "outputs": [],
   "source": [
    "from datetime import datetime\n",
    "import pandas as pd\n",
    "import yfinance as yf\n",
    "import backtrader as bt"
   ]
  },
  {
   "cell_type": "markdown",
   "metadata": {},
   "source": [
    "### <span style=\"color:red \"><策略1.2- with Commision>建立交易策略"
   ]
  },
  {
   "cell_type": "code",
   "execution_count": 5,
   "metadata": {},
   "outputs": [],
   "source": [
    "class RsiStrategy(bt.Strategy):\n",
    "    params = dict(\n",
    "        ma_period=20,\n",
    "        rsi_uplimit=80,\n",
    "        rsi_downlimit=20,\n",
    "    )\n",
    "\n",
    "    def __init__(self):\n",
    "        # keep track of close price in the series\n",
    "        self.data_close = self.datas[0].close\n",
    "\n",
    "        # keep track of pending orders/buy price/buy commission\n",
    "        self.order = None\n",
    "        self.price = None\n",
    "        self.comm = None\n",
    "\n",
    "        # add a simple rsi indicator\n",
    "        self.rsi = bt.indicators.RSI_Safe(self.data.close, period=self.params.ma_period)\n",
    "\n",
    "    def log(self, txt):\n",
    "        '''Logging function'''\n",
    "        dt = self.datas[0].datetime.date(0).isoformat()\n",
    "        print(f'{dt}, {txt}')\n",
    "\n",
    "    def notify_order(self, order):\n",
    "        if order.status in [order.Submitted, order.Accepted]:\n",
    "            # order already submitted/accepted - no action required\n",
    "            return\n",
    "\n",
    "        # report executed order\n",
    "        if order.status in [order.Completed]:\n",
    "            if order.isbuy():\n",
    "                self.log(f'買單執行 --- 買價: {order.executed.price:.2f}, 成本: {order.executed.value:.2f}, 手續費: {order.executed.comm:.2f}')\n",
    "                self.price = order.executed.price\n",
    "                self.comm = order.executed.comm\n",
    "            else:\n",
    "                self.log(f'賣單執行 --- 賣價: {order.executed.price:.2f}, 成本: {order.executed.value:.2f}, 手續費: {order.executed.comm:.2f}')\n",
    "\n",
    "        # report failed order\n",
    "        elif order.status in [order.Canceled, order.Margin, order.Rejected]:\n",
    "            self.log('交易失敗')\n",
    "\n",
    "        # set no pending order\n",
    "        self.order = None\n",
    "\n",
    "    def notify_trade(self, trade):\n",
    "        if not trade.isclosed:\n",
    "            return\n",
    "\n",
    "        self.log(f'運作結果 --- 獲利狀況: {trade.pnl:.2f}, 淨獲利: {trade.pnlcomm:.2f}')\n",
    "\n",
    "    def next(self):\n",
    "        # do nothing if an order is pending\n",
    "        if self.order:\n",
    "            return\n",
    "\n",
    "        # check if there is already a position\n",
    "        if not self.position:\n",
    "            # buy condition\n",
    "            if self.rsi < self.params.rsi_downlimit:\n",
    "                self.log(f'開出買單 --- 當時市場價格: {self.data_close[0]:.2f}')\n",
    "                self.order = self.buy(size=1000)\n",
    "        else:\n",
    "            # sell condition\n",
    "            if self.rsi > self.params.rsi_uplimit:\n",
    "                self.log(f'開出賣單 --- 當時市場價格: {self.data_close[0]:.2f}')\n",
    "                self.order = self.sell(size=1000)"
   ]
  },
  {
   "cell_type": "markdown",
   "metadata": {},
   "source": [
    "### <span style=\"color:red \"><策略1.3- with Commision>抓取目標股票的歷史資料"
   ]
  },
  {
   "cell_type": "code",
   "execution_count": 6,
   "metadata": {},
   "outputs": [],
   "source": [
    "data= yf.download(  目標股票代碼,              #股票代碼\n",
    "                    start=分析開始日期,      #資料開始日期\n",
    "                    end=分析結束日期,         #資料結束日期\n",
    "                    progress=False\n",
    "                 )\n",
    "data=bt.feeds.PandasData(dataname=pd.DataFrame({'open': data['Open'], \n",
    "                   'high': data['High'],\n",
    "                   'low': data['Low'],\n",
    "                   'close': data['Close'],\n",
    "                   'volume': data['Volume'],\n",
    "                  }))\n"
   ]
  },
  {
   "cell_type": "markdown",
   "metadata": {},
   "source": [
    "### <span style=\"color:red \"><策略1.4- with Commision>建立台股交易費用計算模式"
   ]
  },
  {
   "cell_type": "code",
   "execution_count": 7,
   "metadata": {},
   "outputs": [],
   "source": [
    "class TWStockCommisionScheme(bt.CommInfoBase):\n",
    "    params = (\n",
    "        \n",
    "         ('stocklike', True),\n",
    "         ('commtype', bt.CommInfoBase.COMM_PERC),\n",
    "         ('percabs', True),\n",
    "         ('discount', 0.3),\n",
    "         ('tax',0.003),\n",
    "         ('lowestfee',20)\n",
    "        )\n",
    "\n",
    "    def _getcommission(self, size, price, pseudoexec):\n",
    "          if size>0:\n",
    "            return max(self.p.lowestfee,size * price * self.p.commission * self.p.discount)\n",
    "          else:\n",
    "            return (max(self.p.lowestfee,-(size * price * self.p.commission * self.p.discount))-size * price *self.p.tax)"
   ]
  },
  {
   "cell_type": "markdown",
   "metadata": {},
   "source": [
    "### <span style=\"color:red \"><策略1.5- with Commision>建立回測分析「大腦」"
   ]
  },
  {
   "cell_type": "code",
   "execution_count": 8,
   "metadata": {},
   "outputs": [],
   "source": [
    "# create a Cerebro entity\n",
    "cerebro = bt.Cerebro()\n",
    "\n",
    "# set up the backtest\n",
    "cerebro.adddata(data)\n",
    "cerebro.broker.setcash(cash)\n",
    "cerebro.addstrategy(RsiStrategy)\n",
    "\n",
    "#commission手續費 0.1425%\n",
    "#discount 你可以拿到的手續費折數\n",
    "#tax=0.003 證券交易稅率\n",
    "comminfo = TWStockCommisionScheme(\n",
    "    commission=0.001425,  \n",
    "    discount=0.5,\n",
    "    tax=0.003,\n",
    "    lowestfee=20\n",
    ")\n",
    "\n",
    "cerebro.broker.addcommissioninfo(comminfo)\n"
   ]
  },
  {
   "cell_type": "markdown",
   "metadata": {},
   "source": [
    "### <span style=\"color:red \"><策略1.6- with Commision>讓Analyzers來幫我診斷策略細節...-開始回測"
   ]
  },
  {
   "cell_type": "code",
   "execution_count": 9,
   "metadata": {
    "scrolled": false
   },
   "outputs": [
    {
     "name": "stdout",
     "output_type": "stream",
     "text": [
      "策略運作分析結果:\n",
      "獲利累積次數 : \n",
      "損失累積次數 : \n",
      "獲利損失次數比 : 沒有完整交易\n",
      "最高連續獲利交易次數 : \n",
      "最高連續損失交易次數 : \n",
      "淨利結算 : \n",
      "持有資產總值: 1000000.00\n"
     ]
    }
   ],
   "source": [
    "cerebro.addanalyzer(bt.analyzers.TradeAnalyzer, _name=\"ta\")\n",
    "\n",
    "strategies = cerebro.run()\n",
    "firstStrat = strategies[0]\n",
    "\n",
    "# print the analyzers\n",
    "printTradeAnalysis(firstStrat.analyzers.ta.get_analysis())\n",
    "print(f'持有資產總值: {cerebro.broker.getvalue():.2f}')"
   ]
  },
  {
   "cell_type": "markdown",
   "metadata": {},
   "source": [
    "### <span style=\"color:red \"><策略1.7- with Commision>畫張圖勝過千言萬語!-圖形化表達"
   ]
  },
  {
   "cell_type": "code",
   "execution_count": 10,
   "metadata": {},
   "outputs": [
    {
     "data": {
      "text/plain": [
       "[[<Figure size 1368x720 with 5 Axes>]]"
      ]
     },
     "execution_count": 10,
     "metadata": {},
     "output_type": "execute_result"
    }
   ],
   "source": [
    "import matplotlib.pyplot as plt\n",
    "%matplotlib inline\n",
    "\n",
    "plt.rcParams['figure.dpi']=80\n",
    "cerebro.plot(iplot=False)"
   ]
  },
  {
   "cell_type": "markdown",
   "metadata": {},
   "source": [
    "  "
   ]
  },
  {
   "cell_type": "markdown",
   "metadata": {},
   "source": [
    "  "
   ]
  },
  {
   "cell_type": "markdown",
   "metadata": {},
   "source": [
    "  "
   ]
  },
  {
   "cell_type": "markdown",
   "metadata": {},
   "source": [
    "## <span style=\"color:red \"><策略2- with Commision>我們不得不懷疑20-day RSI是一個好選擇嗎?\n",
    "--------\n",
    "    "
   ]
  },
  {
   "cell_type": "markdown",
   "metadata": {},
   "source": [
    "### <span style=\"color:red \"><策略2.2- with Commision>建立交易策略"
   ]
  },
  {
   "cell_type": "code",
   "execution_count": 11,
   "metadata": {},
   "outputs": [],
   "source": [
    "class RsiStrategy(bt.Strategy):\n",
    "    params = dict(\n",
    "        ma_period=20, \n",
    "        rsi_uplimit=80,\n",
    "        rsi_downlimit=20,\n",
    "        totalValue=''\n",
    "    )\n",
    "\n",
    "    def __init__(self):\n",
    "        # keep track of close price in the series\n",
    "        self.data_close = self.datas[0].close\n",
    "\n",
    "        # keep track of pending orders\n",
    "        self.order = None\n",
    "        self.price = None\n",
    "        self.comm = None\n",
    "\n",
    "        # add a simple moving average indicator\n",
    "        self.rsi = bt.indicators.RSI_Safe(self.data.close, period=self.params.ma_period)\n",
    "\n",
    "    def log(self, txt):\n",
    "        '''Logging function'''\n",
    "        dt = self.datas[0].datetime.date(0).isoformat()\n",
    "        print(f'{dt}, {txt}')\n",
    "\n",
    "    def notify_order(self, order):\n",
    "        # set no pending order\n",
    "        self.order = None\n",
    "\n",
    "    def next(self):\n",
    "        # do nothing if an order is pending\n",
    "        if self.order:\n",
    "            return\n",
    "                \n",
    "        # check if there is already a position\n",
    "        if not self.position:\n",
    "            # buy condition\n",
    "            if self.rsi < self.params.rsi_downlimit:\n",
    "                self.order = self.buy(size=1000)\n",
    "        else:\n",
    "            # sell condition\n",
    "            if self.rsi > self.params.rsi_uplimit:\n",
    "                self.order = self.sell(size=1000)\n",
    "\n",
    "    def stop(self):\n",
    "        self.log(f'(RSI週期設定 = {self.params.ma_period:2d} RSI上限設定 = {self.params.rsi_uplimit:2d} RSI下限設定 = {self.params.rsi_downlimit:2d}) --- 淨利數值: {self.broker.getvalue()-cash:.2f}')\n",
    "        self.params.totalValue=self.broker.getvalue()\n",
    "\n"
   ]
  },
  {
   "cell_type": "markdown",
   "metadata": {},
   "source": [
    "### <span style=\"color:red \"><策略2.4- with Commision>建立台股交易費用計算模式"
   ]
  },
  {
   "cell_type": "code",
   "execution_count": 12,
   "metadata": {},
   "outputs": [],
   "source": [
    "class TWStockCommisionScheme(bt.CommInfoBase):\n",
    "    params = (\n",
    "        \n",
    "         ('stocklike', True),\n",
    "         ('commtype', bt.CommInfoBase.COMM_PERC),\n",
    "         ('percabs', True),\n",
    "         ('discount', 0.3),\n",
    "         ('tax',0.003),\n",
    "         ('lowestfee',20)\n",
    "        )\n",
    "\n",
    "    def _getcommission(self, size, price, pseudoexec):\n",
    "          if size>0:\n",
    "            return max(self.p.lowestfee,size * price * self.p.commission * self.p.discount)\n",
    "          else:\n",
    "            return (max(self.p.lowestfee,-(size * price * self.p.commission * self.p.discount))-size * price *self.p.tax)"
   ]
  },
  {
   "cell_type": "markdown",
   "metadata": {},
   "source": [
    "### <span style=\"color:red \"><策略2.5- with Commision >建立回測分析「大腦」,讓Analyzers來幫我診斷策略細節...-開始回測"
   ]
  },
  {
   "cell_type": "code",
   "execution_count": 13,
   "metadata": {
    "scrolled": true
   },
   "outputs": [
    {
     "name": "stdout",
     "output_type": "stream",
     "text": [
      "2021-07-09, (RSI週期設定 = 10 RSI上限設定 = 65 RSI下限設定 =  5) --- 淨利數值: 0.00\n",
      "2021-07-09, (RSI週期設定 = 10 RSI上限設定 = 65 RSI下限設定 = 10) --- 淨利數值: 0.00\n",
      "2021-07-09, (RSI週期設定 = 10 RSI上限設定 = 65 RSI下限設定 = 15) --- 淨利數值: 0.00\n",
      "2021-07-09, (RSI週期設定 = 10 RSI上限設定 = 65 RSI下限設定 = 20) --- 淨利數值: 0.00\n",
      "2021-07-09, (RSI週期設定 = 10 RSI上限設定 = 65 RSI下限設定 = 25) --- 淨利數值: 49346.65\n",
      "2021-07-09, (RSI週期設定 = 10 RSI上限設定 = 70 RSI下限設定 =  5) --- 淨利數值: 0.00\n",
      "2021-07-09, (RSI週期設定 = 10 RSI上限設定 = 70 RSI下限設定 = 10) --- 淨利數值: 0.00\n",
      "2021-07-09, (RSI週期設定 = 10 RSI上限設定 = 70 RSI下限設定 = 15) --- 淨利數值: 0.00\n",
      "2021-07-09, (RSI週期設定 = 10 RSI上限設定 = 70 RSI下限設定 = 20) --- 淨利數值: 0.00\n",
      "2021-07-09, (RSI週期設定 = 10 RSI上限設定 = 70 RSI下限設定 = 25) --- 淨利數值: 27603.85\n",
      "2021-07-09, (RSI週期設定 = 10 RSI上限設定 = 75 RSI下限設定 =  5) --- 淨利數值: 0.00\n",
      "2021-07-09, (RSI週期設定 = 10 RSI上限設定 = 75 RSI下限設定 = 10) --- 淨利數值: 0.00\n",
      "2021-07-09, (RSI週期設定 = 10 RSI上限設定 = 75 RSI下限設定 = 15) --- 淨利數值: 0.00\n",
      "2021-07-09, (RSI週期設定 = 10 RSI上限設定 = 75 RSI下限設定 = 20) --- 淨利數值: 0.00\n",
      "2021-07-09, (RSI週期設定 = 10 RSI上限設定 = 75 RSI下限設定 = 25) --- 淨利數值: 27603.85\n",
      "2021-07-09, (RSI週期設定 = 10 RSI上限設定 = 80 RSI下限設定 =  5) --- 淨利數值: 0.00\n",
      "2021-07-09, (RSI週期設定 = 10 RSI上限設定 = 80 RSI下限設定 = 10) --- 淨利數值: 0.00\n",
      "2021-07-09, (RSI週期設定 = 10 RSI上限設定 = 80 RSI下限設定 = 15) --- 淨利數值: 0.00\n",
      "2021-07-09, (RSI週期設定 = 10 RSI上限設定 = 80 RSI下限設定 = 20) --- 淨利數值: 0.00\n",
      "2021-07-09, (RSI週期設定 = 10 RSI上限設定 = 80 RSI下限設定 = 25) --- 淨利數值: 27603.85\n",
      "2021-07-09, (RSI週期設定 = 11 RSI上限設定 = 65 RSI下限設定 =  5) --- 淨利數值: 0.00\n",
      "2021-07-09, (RSI週期設定 = 11 RSI上限設定 = 65 RSI下限設定 = 10) --- 淨利數值: 0.00\n",
      "2021-07-09, (RSI週期設定 = 11 RSI上限設定 = 65 RSI下限設定 = 15) --- 淨利數值: 0.00\n",
      "2021-07-09, (RSI週期設定 = 11 RSI上限設定 = 65 RSI下限設定 = 20) --- 淨利數值: 0.00\n",
      "2021-07-09, (RSI週期設定 = 11 RSI上限設定 = 65 RSI下限設定 = 25) --- 淨利數值: 0.00\n",
      "2021-07-09, (RSI週期設定 = 11 RSI上限設定 = 70 RSI下限設定 =  5) --- 淨利數值: 0.00\n",
      "2021-07-09, (RSI週期設定 = 11 RSI上限設定 = 70 RSI下限設定 = 10) --- 淨利數值: 0.00\n",
      "2021-07-09, (RSI週期設定 = 11 RSI上限設定 = 70 RSI下限設定 = 15) --- 淨利數值: 0.00\n",
      "2021-07-09, (RSI週期設定 = 11 RSI上限設定 = 70 RSI下限設定 = 20) --- 淨利數值: 0.00\n",
      "2021-07-09, (RSI週期設定 = 11 RSI上限設定 = 70 RSI下限設定 = 25) --- 淨利數值: 0.00\n",
      "2021-07-09, (RSI週期設定 = 11 RSI上限設定 = 75 RSI下限設定 =  5) --- 淨利數值: 0.00"
     ]
    },
    {
     "ename": "KeyboardInterrupt",
     "evalue": "",
     "output_type": "error",
     "traceback": [
      "\u001b[1;31m---------------------------------------------------------------------------\u001b[0m",
      "\u001b[1;31mKeyboardInterrupt\u001b[0m                         Traceback (most recent call last)",
      "\u001b[1;32m<ipython-input-13-6f77f5547830>\u001b[0m in \u001b[0;36m<module>\u001b[1;34m\u001b[0m\n\u001b[0;32m     26\u001b[0m \u001b[0mcerebro\u001b[0m\u001b[1;33m.\u001b[0m\u001b[0maddanalyzer\u001b[0m\u001b[1;33m(\u001b[0m\u001b[0mbt\u001b[0m\u001b[1;33m.\u001b[0m\u001b[0manalyzers\u001b[0m\u001b[1;33m.\u001b[0m\u001b[0mTradeAnalyzer\u001b[0m\u001b[1;33m,\u001b[0m\u001b[0m_name\u001b[0m\u001b[1;33m=\u001b[0m\u001b[1;34m\"ta\"\u001b[0m\u001b[1;33m)\u001b[0m\u001b[1;33m\u001b[0m\u001b[1;33m\u001b[0m\u001b[0m\n\u001b[0;32m     27\u001b[0m \u001b[1;33m\u001b[0m\u001b[0m\n\u001b[1;32m---> 28\u001b[1;33m \u001b[0mopt_runs\u001b[0m \u001b[1;33m=\u001b[0m \u001b[0mcerebro\u001b[0m\u001b[1;33m.\u001b[0m\u001b[0mrun\u001b[0m\u001b[1;33m(\u001b[0m\u001b[0mmaxcpus\u001b[0m\u001b[1;33m=\u001b[0m\u001b[1;36m1\u001b[0m\u001b[1;33m)\u001b[0m\u001b[1;33m\u001b[0m\u001b[1;33m\u001b[0m\u001b[0m\n\u001b[0m\u001b[0;32m     29\u001b[0m \u001b[1;33m\u001b[0m\u001b[0m\n\u001b[0;32m     30\u001b[0m \u001b[1;33m\u001b[0m\u001b[0m\n",
      "\u001b[1;32m~\\anaconda3\\lib\\site-packages\\backtrader\\cerebro.py\u001b[0m in \u001b[0;36mrun\u001b[1;34m(self, **kwargs)\u001b[0m\n\u001b[0;32m   1125\u001b[0m             \u001b[1;31m# let's skip process \"spawning\"\u001b[0m\u001b[1;33m\u001b[0m\u001b[1;33m\u001b[0m\u001b[1;33m\u001b[0m\u001b[0m\n\u001b[0;32m   1126\u001b[0m             \u001b[1;32mfor\u001b[0m \u001b[0miterstrat\u001b[0m \u001b[1;32min\u001b[0m \u001b[0miterstrats\u001b[0m\u001b[1;33m:\u001b[0m\u001b[1;33m\u001b[0m\u001b[1;33m\u001b[0m\u001b[0m\n\u001b[1;32m-> 1127\u001b[1;33m                 \u001b[0mrunstrat\u001b[0m \u001b[1;33m=\u001b[0m \u001b[0mself\u001b[0m\u001b[1;33m.\u001b[0m\u001b[0mrunstrategies\u001b[0m\u001b[1;33m(\u001b[0m\u001b[0miterstrat\u001b[0m\u001b[1;33m)\u001b[0m\u001b[1;33m\u001b[0m\u001b[1;33m\u001b[0m\u001b[0m\n\u001b[0m\u001b[0;32m   1128\u001b[0m                 \u001b[0mself\u001b[0m\u001b[1;33m.\u001b[0m\u001b[0mrunstrats\u001b[0m\u001b[1;33m.\u001b[0m\u001b[0mappend\u001b[0m\u001b[1;33m(\u001b[0m\u001b[0mrunstrat\u001b[0m\u001b[1;33m)\u001b[0m\u001b[1;33m\u001b[0m\u001b[1;33m\u001b[0m\u001b[0m\n\u001b[0;32m   1129\u001b[0m                 \u001b[1;32mif\u001b[0m \u001b[0mself\u001b[0m\u001b[1;33m.\u001b[0m\u001b[0m_dooptimize\u001b[0m\u001b[1;33m:\u001b[0m\u001b[1;33m\u001b[0m\u001b[1;33m\u001b[0m\u001b[0m\n",
      "\u001b[1;32m~\\anaconda3\\lib\\site-packages\\backtrader\\cerebro.py\u001b[0m in \u001b[0;36mrunstrategies\u001b[1;34m(self, iterstrat, predata)\u001b[0m\n\u001b[0;32m   1299\u001b[0m \u001b[1;33m\u001b[0m\u001b[0m\n\u001b[0;32m   1300\u001b[0m             \u001b[1;32mfor\u001b[0m \u001b[0mstrat\u001b[0m \u001b[1;32min\u001b[0m \u001b[0mrunstrats\u001b[0m\u001b[1;33m:\u001b[0m\u001b[1;33m\u001b[0m\u001b[1;33m\u001b[0m\u001b[0m\n\u001b[1;32m-> 1301\u001b[1;33m                 \u001b[0mstrat\u001b[0m\u001b[1;33m.\u001b[0m\u001b[0m_stop\u001b[0m\u001b[1;33m(\u001b[0m\u001b[1;33m)\u001b[0m\u001b[1;33m\u001b[0m\u001b[1;33m\u001b[0m\u001b[0m\n\u001b[0m\u001b[0;32m   1302\u001b[0m \u001b[1;33m\u001b[0m\u001b[0m\n\u001b[0;32m   1303\u001b[0m         \u001b[0mself\u001b[0m\u001b[1;33m.\u001b[0m\u001b[0m_broker\u001b[0m\u001b[1;33m.\u001b[0m\u001b[0mstop\u001b[0m\u001b[1;33m(\u001b[0m\u001b[1;33m)\u001b[0m\u001b[1;33m\u001b[0m\u001b[1;33m\u001b[0m\u001b[0m\n",
      "\u001b[1;32m~\\anaconda3\\lib\\site-packages\\backtrader\\strategy.py\u001b[0m in \u001b[0;36m_stop\u001b[1;34m(self)\u001b[0m\n\u001b[0;32m    481\u001b[0m \u001b[1;33m\u001b[0m\u001b[0m\n\u001b[0;32m    482\u001b[0m     \u001b[1;32mdef\u001b[0m \u001b[0m_stop\u001b[0m\u001b[1;33m(\u001b[0m\u001b[0mself\u001b[0m\u001b[1;33m)\u001b[0m\u001b[1;33m:\u001b[0m\u001b[1;33m\u001b[0m\u001b[1;33m\u001b[0m\u001b[0m\n\u001b[1;32m--> 483\u001b[1;33m         \u001b[0mself\u001b[0m\u001b[1;33m.\u001b[0m\u001b[0mstop\u001b[0m\u001b[1;33m(\u001b[0m\u001b[1;33m)\u001b[0m\u001b[1;33m\u001b[0m\u001b[1;33m\u001b[0m\u001b[0m\n\u001b[0m\u001b[0;32m    484\u001b[0m \u001b[1;33m\u001b[0m\u001b[0m\n\u001b[0;32m    485\u001b[0m         \u001b[1;32mfor\u001b[0m \u001b[0manalyzer\u001b[0m \u001b[1;32min\u001b[0m \u001b[0mitertools\u001b[0m\u001b[1;33m.\u001b[0m\u001b[0mchain\u001b[0m\u001b[1;33m(\u001b[0m\u001b[0mself\u001b[0m\u001b[1;33m.\u001b[0m\u001b[0manalyzers\u001b[0m\u001b[1;33m,\u001b[0m \u001b[0mself\u001b[0m\u001b[1;33m.\u001b[0m\u001b[0m_slave_analyzers\u001b[0m\u001b[1;33m)\u001b[0m\u001b[1;33m:\u001b[0m\u001b[1;33m\u001b[0m\u001b[1;33m\u001b[0m\u001b[0m\n",
      "\u001b[1;32m<ipython-input-11-8750a3846742>\u001b[0m in \u001b[0;36mstop\u001b[1;34m(self)\u001b[0m\n\u001b[0;32m     44\u001b[0m \u001b[1;33m\u001b[0m\u001b[0m\n\u001b[0;32m     45\u001b[0m     \u001b[1;32mdef\u001b[0m \u001b[0mstop\u001b[0m\u001b[1;33m(\u001b[0m\u001b[0mself\u001b[0m\u001b[1;33m)\u001b[0m\u001b[1;33m:\u001b[0m\u001b[1;33m\u001b[0m\u001b[1;33m\u001b[0m\u001b[0m\n\u001b[1;32m---> 46\u001b[1;33m         \u001b[0mself\u001b[0m\u001b[1;33m.\u001b[0m\u001b[0mlog\u001b[0m\u001b[1;33m(\u001b[0m\u001b[1;34mf'(RSI週期設定 = {self.params.ma_period:2d} RSI上限設定 = {self.params.rsi_uplimit:2d} RSI下限設定 = {self.params.rsi_downlimit:2d}) --- 淨利數值: {self.broker.getvalue()-cash:.2f}'\u001b[0m\u001b[1;33m)\u001b[0m\u001b[1;33m\u001b[0m\u001b[1;33m\u001b[0m\u001b[0m\n\u001b[0m\u001b[0;32m     47\u001b[0m         \u001b[0mself\u001b[0m\u001b[1;33m.\u001b[0m\u001b[0mparams\u001b[0m\u001b[1;33m.\u001b[0m\u001b[0mtotalValue\u001b[0m\u001b[1;33m=\u001b[0m\u001b[0mself\u001b[0m\u001b[1;33m.\u001b[0m\u001b[0mbroker\u001b[0m\u001b[1;33m.\u001b[0m\u001b[0mgetvalue\u001b[0m\u001b[1;33m(\u001b[0m\u001b[1;33m)\u001b[0m\u001b[1;33m\u001b[0m\u001b[1;33m\u001b[0m\u001b[0m\n\u001b[0;32m     48\u001b[0m \u001b[1;33m\u001b[0m\u001b[0m\n",
      "\u001b[1;32m<ipython-input-11-8750a3846742>\u001b[0m in \u001b[0;36mlog\u001b[1;34m(self, txt)\u001b[0m\n\u001b[0;32m     22\u001b[0m         \u001b[1;34m'''Logging function'''\u001b[0m\u001b[1;33m\u001b[0m\u001b[1;33m\u001b[0m\u001b[0m\n\u001b[0;32m     23\u001b[0m         \u001b[0mdt\u001b[0m \u001b[1;33m=\u001b[0m \u001b[0mself\u001b[0m\u001b[1;33m.\u001b[0m\u001b[0mdatas\u001b[0m\u001b[1;33m[\u001b[0m\u001b[1;36m0\u001b[0m\u001b[1;33m]\u001b[0m\u001b[1;33m.\u001b[0m\u001b[0mdatetime\u001b[0m\u001b[1;33m.\u001b[0m\u001b[0mdate\u001b[0m\u001b[1;33m(\u001b[0m\u001b[1;36m0\u001b[0m\u001b[1;33m)\u001b[0m\u001b[1;33m.\u001b[0m\u001b[0misoformat\u001b[0m\u001b[1;33m(\u001b[0m\u001b[1;33m)\u001b[0m\u001b[1;33m\u001b[0m\u001b[1;33m\u001b[0m\u001b[0m\n\u001b[1;32m---> 24\u001b[1;33m         \u001b[0mprint\u001b[0m\u001b[1;33m(\u001b[0m\u001b[1;34mf'{dt}, {txt}'\u001b[0m\u001b[1;33m)\u001b[0m\u001b[1;33m\u001b[0m\u001b[1;33m\u001b[0m\u001b[0m\n\u001b[0m\u001b[0;32m     25\u001b[0m \u001b[1;33m\u001b[0m\u001b[0m\n\u001b[0;32m     26\u001b[0m     \u001b[1;32mdef\u001b[0m \u001b[0mnotify_order\u001b[0m\u001b[1;33m(\u001b[0m\u001b[0mself\u001b[0m\u001b[1;33m,\u001b[0m \u001b[0morder\u001b[0m\u001b[1;33m)\u001b[0m\u001b[1;33m:\u001b[0m\u001b[1;33m\u001b[0m\u001b[1;33m\u001b[0m\u001b[0m\n",
      "\u001b[1;32m~\\anaconda3\\lib\\site-packages\\ipykernel\\iostream.py\u001b[0m in \u001b[0;36mwrite\u001b[1;34m(self, string)\u001b[0m\n\u001b[0;32m    402\u001b[0m             \u001b[0mis_child\u001b[0m \u001b[1;33m=\u001b[0m \u001b[1;33m(\u001b[0m\u001b[1;32mnot\u001b[0m \u001b[0mself\u001b[0m\u001b[1;33m.\u001b[0m\u001b[0m_is_master_process\u001b[0m\u001b[1;33m(\u001b[0m\u001b[1;33m)\u001b[0m\u001b[1;33m)\u001b[0m\u001b[1;33m\u001b[0m\u001b[1;33m\u001b[0m\u001b[0m\n\u001b[0;32m    403\u001b[0m             \u001b[1;31m# only touch the buffer in the IO thread to avoid races\u001b[0m\u001b[1;33m\u001b[0m\u001b[1;33m\u001b[0m\u001b[1;33m\u001b[0m\u001b[0m\n\u001b[1;32m--> 404\u001b[1;33m             \u001b[0mself\u001b[0m\u001b[1;33m.\u001b[0m\u001b[0mpub_thread\u001b[0m\u001b[1;33m.\u001b[0m\u001b[0mschedule\u001b[0m\u001b[1;33m(\u001b[0m\u001b[1;32mlambda\u001b[0m \u001b[1;33m:\u001b[0m \u001b[0mself\u001b[0m\u001b[1;33m.\u001b[0m\u001b[0m_buffer\u001b[0m\u001b[1;33m.\u001b[0m\u001b[0mwrite\u001b[0m\u001b[1;33m(\u001b[0m\u001b[0mstring\u001b[0m\u001b[1;33m)\u001b[0m\u001b[1;33m)\u001b[0m\u001b[1;33m\u001b[0m\u001b[1;33m\u001b[0m\u001b[0m\n\u001b[0m\u001b[0;32m    405\u001b[0m             \u001b[1;32mif\u001b[0m \u001b[0mis_child\u001b[0m\u001b[1;33m:\u001b[0m\u001b[1;33m\u001b[0m\u001b[1;33m\u001b[0m\u001b[0m\n\u001b[0;32m    406\u001b[0m                 \u001b[1;31m# mp.Pool cannot be trusted to flush promptly (or ever),\u001b[0m\u001b[1;33m\u001b[0m\u001b[1;33m\u001b[0m\u001b[1;33m\u001b[0m\u001b[0m\n",
      "\u001b[1;32m~\\anaconda3\\lib\\site-packages\\ipykernel\\iostream.py\u001b[0m in \u001b[0;36mschedule\u001b[1;34m(self, f)\u001b[0m\n\u001b[0;32m    203\u001b[0m             \u001b[0mself\u001b[0m\u001b[1;33m.\u001b[0m\u001b[0m_events\u001b[0m\u001b[1;33m.\u001b[0m\u001b[0mappend\u001b[0m\u001b[1;33m(\u001b[0m\u001b[0mf\u001b[0m\u001b[1;33m)\u001b[0m\u001b[1;33m\u001b[0m\u001b[1;33m\u001b[0m\u001b[0m\n\u001b[0;32m    204\u001b[0m             \u001b[1;31m# wake event thread (message content is ignored)\u001b[0m\u001b[1;33m\u001b[0m\u001b[1;33m\u001b[0m\u001b[1;33m\u001b[0m\u001b[0m\n\u001b[1;32m--> 205\u001b[1;33m             \u001b[0mself\u001b[0m\u001b[1;33m.\u001b[0m\u001b[0m_event_pipe\u001b[0m\u001b[1;33m.\u001b[0m\u001b[0msend\u001b[0m\u001b[1;33m(\u001b[0m\u001b[1;34mb''\u001b[0m\u001b[1;33m)\u001b[0m\u001b[1;33m\u001b[0m\u001b[1;33m\u001b[0m\u001b[0m\n\u001b[0m\u001b[0;32m    206\u001b[0m         \u001b[1;32melse\u001b[0m\u001b[1;33m:\u001b[0m\u001b[1;33m\u001b[0m\u001b[1;33m\u001b[0m\u001b[0m\n\u001b[0;32m    207\u001b[0m             \u001b[0mf\u001b[0m\u001b[1;33m(\u001b[0m\u001b[1;33m)\u001b[0m\u001b[1;33m\u001b[0m\u001b[1;33m\u001b[0m\u001b[0m\n",
      "\u001b[1;32m~\\anaconda3\\lib\\site-packages\\zmq\\sugar\\socket.py\u001b[0m in \u001b[0;36msend\u001b[1;34m(self, data, flags, copy, track, routing_id, group)\u001b[0m\n\u001b[0;32m    489\u001b[0m                                  copy_threshold=self.copy_threshold)\n\u001b[0;32m    490\u001b[0m             \u001b[0mdata\u001b[0m\u001b[1;33m.\u001b[0m\u001b[0mgroup\u001b[0m \u001b[1;33m=\u001b[0m \u001b[0mgroup\u001b[0m\u001b[1;33m\u001b[0m\u001b[1;33m\u001b[0m\u001b[0m\n\u001b[1;32m--> 491\u001b[1;33m         \u001b[1;32mreturn\u001b[0m \u001b[0msuper\u001b[0m\u001b[1;33m(\u001b[0m\u001b[0mSocket\u001b[0m\u001b[1;33m,\u001b[0m \u001b[0mself\u001b[0m\u001b[1;33m)\u001b[0m\u001b[1;33m.\u001b[0m\u001b[0msend\u001b[0m\u001b[1;33m(\u001b[0m\u001b[0mdata\u001b[0m\u001b[1;33m,\u001b[0m \u001b[0mflags\u001b[0m\u001b[1;33m=\u001b[0m\u001b[0mflags\u001b[0m\u001b[1;33m,\u001b[0m \u001b[0mcopy\u001b[0m\u001b[1;33m=\u001b[0m\u001b[0mcopy\u001b[0m\u001b[1;33m,\u001b[0m \u001b[0mtrack\u001b[0m\u001b[1;33m=\u001b[0m\u001b[0mtrack\u001b[0m\u001b[1;33m)\u001b[0m\u001b[1;33m\u001b[0m\u001b[1;33m\u001b[0m\u001b[0m\n\u001b[0m\u001b[0;32m    492\u001b[0m \u001b[1;33m\u001b[0m\u001b[0m\n\u001b[0;32m    493\u001b[0m     \u001b[1;32mdef\u001b[0m \u001b[0msend_multipart\u001b[0m\u001b[1;33m(\u001b[0m\u001b[0mself\u001b[0m\u001b[1;33m,\u001b[0m \u001b[0mmsg_parts\u001b[0m\u001b[1;33m,\u001b[0m \u001b[0mflags\u001b[0m\u001b[1;33m=\u001b[0m\u001b[1;36m0\u001b[0m\u001b[1;33m,\u001b[0m \u001b[0mcopy\u001b[0m\u001b[1;33m=\u001b[0m\u001b[1;32mTrue\u001b[0m\u001b[1;33m,\u001b[0m \u001b[0mtrack\u001b[0m\u001b[1;33m=\u001b[0m\u001b[1;32mFalse\u001b[0m\u001b[1;33m,\u001b[0m \u001b[1;33m**\u001b[0m\u001b[0mkwargs\u001b[0m\u001b[1;33m)\u001b[0m\u001b[1;33m:\u001b[0m\u001b[1;33m\u001b[0m\u001b[1;33m\u001b[0m\u001b[0m\n",
      "\u001b[1;32mzmq/backend/cython/socket.pyx\u001b[0m in \u001b[0;36mzmq.backend.cython.socket.Socket.send\u001b[1;34m()\u001b[0m\n",
      "\u001b[1;32mzmq/backend/cython/socket.pyx\u001b[0m in \u001b[0;36mzmq.backend.cython.socket.Socket.send\u001b[1;34m()\u001b[0m\n",
      "\u001b[1;32mzmq/backend/cython/socket.pyx\u001b[0m in \u001b[0;36mzmq.backend.cython.socket._send_copy\u001b[1;34m()\u001b[0m\n",
      "\u001b[1;32m~\\anaconda3\\lib\\site-packages\\zmq\\backend\\cython\\checkrc.pxd\u001b[0m in \u001b[0;36mzmq.backend.cython.checkrc._check_rc\u001b[1;34m()\u001b[0m\n",
      "\u001b[1;31mKeyboardInterrupt\u001b[0m: "
     ]
    }
   ],
   "source": [
    "# create a Cerebro entity\n",
    "cerebro = bt.Cerebro()\n",
    "cerebro.optstrategy(RsiStrategy, ma_period=range(10, 60),rsi_uplimit=[65,70,75,80],rsi_downlimit=[5,10,15,20,25])\n",
    "cerebro.adddata(data)\n",
    "cerebro.broker.setcash(cash)\n",
    "\n",
    "\n",
    "\n",
    "#commission手續費 0.1425%\n",
    "#discount 你可以拿到的手續費折數\n",
    "#tax=0.003 證券交易稅率\n",
    "comminfo = TWStockCommisionScheme(\n",
    "    commission=0.001425,  \n",
    "    discount=0.5,\n",
    "    tax=0.003,\n",
    "    lowestfee=20\n",
    ")\n",
    "\n",
    "\n",
    "cerebro.broker.addcommissioninfo(comminfo)\n",
    "\n",
    "cerebro.addanalyzer(bt.analyzers.TradeAnalyzer,_name=\"ta\")\n",
    "\n",
    "opt_runs = cerebro.run(maxcpus=1)\n",
    "\n",
    "\n",
    "for run in opt_runs:\n",
    "    for strategy in run:\n",
    "        print(f'RSI週期設定 = {strategy.params.ma_period:2d} RSI上限設定 = {strategy.params.rsi_uplimit:2d} RSI下限設定 = {strategy.params.rsi_downlimit:2d}')\n",
    "        try:\n",
    "            printTradeAnalysis(strategy.analyzers.ta.get_analysis())\n",
    "        except KeyError :\n",
    "            print('沒有交易發生')\n",
    "        print(f'持有資產總值: {strategy.params.totalValue:.2f}')\n",
    "        print('--------------------------------------------------------')"
   ]
  },
  {
   "cell_type": "markdown",
   "metadata": {},
   "source": [
    "## <span style=\"color:red \"><策略3- with Commision>技術分析不是一直說什麼黃金交叉...什麼死亡交叉...\n",
    "-----\n",
    "    1.黃金交叉：短天期均線向上與長天期交叉，稱為黃金交叉。\n",
    "    2.死亡交叉：短天期均線向下與長天期交叉，稱為死亡交叉。"
   ]
  },
  {
   "cell_type": "markdown",
   "metadata": {},
   "source": [
    "### <span style=\"color:red \"><策略3.2- with Commision>建立交易策略"
   ]
  },
  {
   "cell_type": "code",
   "execution_count": null,
   "metadata": {},
   "outputs": [],
   "source": [
    "class RsiCross(bt.Strategy):\n",
    "    params = dict(\n",
    "        pfast=5,   # 短期均線週期\n",
    "        pslow=10   # 長期均線週期\n",
    "    )\n",
    "\n",
    "    def __init__(self):\n",
    "        self.data_close = self.datas[0].close\n",
    "        \n",
    "        self.order = None\n",
    "        self.price = None\n",
    "        self.comm = None\n",
    "\n",
    "        \n",
    "        rsi1 = bt.indicators.RSI_Safe(self.datas[0],period=self.p.pfast)  # 短期均線\n",
    "        rsi2 = bt.indicators.RSI_Safe(self.datas[0],period=self.p.pslow)  # 長期均線\n",
    "        self.crossover = bt.ind.CrossOver(rsi1, rsi2)\n",
    "\n",
    "    def log(self, txt):\n",
    "        '''Logging function'''\n",
    "        dt = self.datas[0].datetime.date(0).isoformat()\n",
    "        print(f'{dt}, {txt}')\n",
    "\n",
    "    def notify_order(self, order):\n",
    "        if order.status in [order.Submitted, order.Accepted]:\n",
    "            # order already submitted/accepted - no action required\n",
    "            return\n",
    "\n",
    "        # report executed order\n",
    "        if order.status in [order.Completed]:\n",
    "            if order.isbuy():\n",
    "                self.log(f'買單執行 --- 買價: {order.executed.price:.2f}, 成本: {order.executed.value:.2f}, 手續費: {order.executed.comm:.2f}')\n",
    "                self.price = order.executed.price\n",
    "                self.comm = order.executed.comm\n",
    "            else:\n",
    "                self.log(f'賣單執行 --- 賣價: {order.executed.price:.2f}, 成本: {order.executed.value:.2f}, 手續費: {order.executed.comm:.2f}')\n",
    "\n",
    "        # report failed order\n",
    "        elif order.status in [order.Canceled, order.Margin, order.Rejected]:\n",
    "            self.log('交易失敗')\n",
    "\n",
    "        # set no pending order\n",
    "        self.order = None\n",
    "\n",
    "    def notify_trade(self, trade):\n",
    "        if not trade.isclosed:\n",
    "            return\n",
    "\n",
    "        self.log(f'運作結果 --- 獲利狀況: {trade.pnl:.2f}, 淨獲利: {trade.pnlcomm:.2f}')\n",
    "\n",
    "    def next(self):\n",
    "        # do nothing if an order is pending\n",
    "        if self.order:\n",
    "            return\n",
    "\n",
    "        # check if there is already a position\n",
    "        if not self.position:\n",
    "            # buy condition\n",
    "            if self.crossover > 0:\n",
    "                self.log(f'開出買單 --- 當時市場價格: {self.data_close[0]:.2f}')\n",
    "                self.order = self.buy(size=1000)\n",
    "        else:\n",
    "            # sell condition\n",
    "            if self.crossover < 0:\n",
    "                self.log(f'開出賣單 --- 當時市場價格: {self.data_close[0]:.2f}')\n",
    "                self.order = self.sell(size=1000)\n",
    "    def stop(self):\n",
    "        self.log(f'(RSI週期設定 = 短週期:{self.p.pfast:2d},長週期:{self.p.pslow:2d}) --- 最終資產價值: {self.broker.getvalue():.2f}')"
   ]
  },
  {
   "cell_type": "markdown",
   "metadata": {},
   "source": [
    "### <span style=\"color:red \"><策略3.4- with Commision>建立台股交易費用計算模式"
   ]
  },
  {
   "cell_type": "code",
   "execution_count": null,
   "metadata": {},
   "outputs": [],
   "source": [
    "class TWStockCommisionScheme(bt.CommInfoBase):\n",
    "    params = (\n",
    "        \n",
    "         ('stocklike', True),\n",
    "         ('commtype', bt.CommInfoBase.COMM_PERC),\n",
    "         ('percabs', True),\n",
    "         ('discount', 0.3),\n",
    "         ('tax',0.003),\n",
    "         ('lowestfee',20)\n",
    "        )\n",
    "\n",
    "    def _getcommission(self, size, price, pseudoexec):\n",
    "          if size>0:\n",
    "            return max(self.p.lowestfee,size * price * self.p.commission * self.p.discount)\n",
    "          else:\n",
    "            return (max(self.p.lowestfee,-(size * price * self.p.commission * self.p.discount))-size * price *self.p.tax)"
   ]
  },
  {
   "cell_type": "markdown",
   "metadata": {},
   "source": [
    "### <span style=\"color:red \"><策略3.5- with Commision>建立回測分析「大腦」"
   ]
  },
  {
   "cell_type": "code",
   "execution_count": null,
   "metadata": {},
   "outputs": [],
   "source": [
    "# create a Cerebro entity\n",
    "cerebro = bt.Cerebro()\n",
    "cerebro.addstrategy(RsiCross)\n",
    "cerebro.adddata(data)\n",
    "cerebro.broker.setcash(cash)\n",
    "\n",
    "\n",
    "\n",
    "#commission手續費 0.1425%\n",
    "#discount 你可以拿到的手續費折數\n",
    "#tax=0.003 證券交易稅率\n",
    "comminfo = TWStockCommisionScheme(\n",
    "    commission=0.001425,  \n",
    "    discount=0.5,\n",
    "    tax=0.003,\n",
    "    lowestfee=20\n",
    ")\n",
    "\n",
    "cerebro.broker.addcommissioninfo(comminfo)\n",
    "\n"
   ]
  },
  {
   "cell_type": "markdown",
   "metadata": {},
   "source": [
    "### <span style=\"color:red \"><策略3.6- with Commision>讓Analyzers來幫我診斷策略細節...-開始回測"
   ]
  },
  {
   "cell_type": "code",
   "execution_count": null,
   "metadata": {
    "scrolled": false
   },
   "outputs": [],
   "source": [
    "cerebro.addanalyzer(bt.analyzers.TradeAnalyzer, _name=\"ta\")\n",
    "\n",
    "strategies = cerebro.run()\n",
    "firstStrat = strategies[0]\n",
    "\n",
    "# print the analyzers\n",
    "printTradeAnalysis(firstStrat.analyzers.ta.get_analysis())\n",
    "print(f'持有資產總值: {firstStrat.broker.getvalue():.2f}')\n"
   ]
  },
  {
   "cell_type": "markdown",
   "metadata": {},
   "source": [
    "### <span style=\"color:red \"><策略3.7- with Commision>畫張圖勝過千言萬語!-圖形化表達"
   ]
  },
  {
   "cell_type": "code",
   "execution_count": null,
   "metadata": {
    "scrolled": false
   },
   "outputs": [],
   "source": [
    "import matplotlib.pyplot as plt\n",
    "%matplotlib inline\n",
    "\n",
    "plt.rcParams['figure.figsize'] = [19, 10]\n",
    "cerebro.plot(iplot=False)"
   ]
  },
  {
   "cell_type": "markdown",
   "metadata": {},
   "source": [
    "## <span style=\"color:red \"><策略4- with Commision>上面是5日線和10日線的交叉結果，那如果我想要知道哪兩條線的配對交叉結果最好...\n",
    "-----\n",
    "###     我就是想知道:\n",
    "        到底是RSI5穿過RSI20比較厲害?\n",
    "        還是RSI20穿出RSI60比較厲害?"
   ]
  },
  {
   "cell_type": "markdown",
   "metadata": {},
   "source": [
    "### <span style=\"color:red \"><策略4.2- with Commision>建立交易策略"
   ]
  },
  {
   "cell_type": "code",
   "execution_count": null,
   "metadata": {},
   "outputs": [],
   "source": [
    "class RsiCross(bt.Strategy):\n",
    "    params = dict(\n",
    "        pfast=5,   # 短期均線週期\n",
    "        pslow=10,   # 長期均線週期\n",
    "        totalValue=''\n",
    "    )\n",
    "\n",
    "    def __init__(self):\n",
    "        self.data_close = self.datas[0].close\n",
    "        \n",
    "        self.order = None\n",
    "        self.price = None\n",
    "        self.comm = None\n",
    "\n",
    "        \n",
    "        rsi1 = bt.indicators.RSI_Safe(self.datas[0],period=self.p.pfast)  # 短期均線\n",
    "        rsi2 = bt.indicators.RSI_Safe(self.datas[0],period=self.p.pslow)  # 長期均線\n",
    "        self.crossover = bt.ind.CrossOver(rsi1, rsi2)\n",
    "\n",
    "    def log(self, txt):\n",
    "        '''Logging function'''\n",
    "        dt = self.datas[0].datetime.date(0).isoformat()\n",
    "        print(f'{dt}, {txt}')\n",
    "\n",
    "    def notify_order(self, order):\n",
    "        if order.status in [order.Submitted, order.Accepted]:\n",
    "            # order already submitted/accepted - no action required\n",
    "            return\n",
    "\n",
    "        # report executed order\n",
    "        if order.status in [order.Completed]:\n",
    "            if order.isbuy():\n",
    "                self.price = order.executed.price\n",
    "                self.comm = order.executed.comm\n",
    "\n",
    "        # set no pending order\n",
    "        self.order = None\n",
    "\n",
    "    def notify_trade(self, trade):\n",
    "        if not trade.isclosed:\n",
    "            return\n",
    "\n",
    "\n",
    "    def next(self):\n",
    "        # do nothing if an order is pending\n",
    "        if self.order:\n",
    "            return\n",
    "\n",
    "        # check if there is already a position\n",
    "        if not self.position:\n",
    "            # buy condition\n",
    "            if self.crossover > 0:\n",
    "                self.order = self.buy(size=1000)\n",
    "        else:\n",
    "            # sell condition\n",
    "            if self.crossover < 0:\n",
    "                self.order = self.sell(size=1000)\n",
    "    def stop(self):\n",
    "        self.log(f'(RSI週期設定 = 短週期:{self.p.pfast:2d},長週期:{self.p.pslow:2d}) --- 淨利數值: {self.broker.getvalue()-cash:.2f}')\n",
    "        self.params.totalValue=self.broker.getvalue()"
   ]
  },
  {
   "cell_type": "markdown",
   "metadata": {},
   "source": [
    "### <span style=\"color:red \"><策略4.4- with Commision>建立台股交易費用計算模式"
   ]
  },
  {
   "cell_type": "code",
   "execution_count": null,
   "metadata": {},
   "outputs": [],
   "source": [
    "class TWStockCommisionScheme(bt.CommInfoBase):\n",
    "    params = (\n",
    "        \n",
    "         ('stocklike', True),\n",
    "         ('commtype', bt.CommInfoBase.COMM_PERC),\n",
    "         ('percabs', True),\n",
    "         ('discount', 0.3),\n",
    "         ('tax',0.003),\n",
    "         ('lowestfee',20)\n",
    "        )\n",
    "\n",
    "    def _getcommission(self, size, price, pseudoexec):\n",
    "          if size>0:\n",
    "            return max(self.p.lowestfee,size * price * self.p.commission * self.p.discount)\n",
    "          else:\n",
    "            return (max(self.p.lowestfee,-(size * price * self.p.commission * self.p.discount))-size * price *self.p.tax)"
   ]
  },
  {
   "cell_type": "markdown",
   "metadata": {},
   "source": [
    "### <span style=\"color:red \"><策略4.5- with Commision>建立回測分析「大腦」,讓Analyzers來幫我診斷策略細節...-開始回測"
   ]
  },
  {
   "cell_type": "code",
   "execution_count": null,
   "metadata": {
    "scrolled": false
   },
   "outputs": [],
   "source": [
    "cerebro = bt.Cerebro()\n",
    "cerebro.optstrategy(RsiCross, pfast=[5,7, 10,12, 15],pslow=[20,25,30,35,40,45])\n",
    "cerebro.adddata(data)\n",
    "cerebro.broker.setcash(cash)\n",
    "\n",
    "\n",
    "#commission手續費 0.1425%\n",
    "#discount 你可以拿到的手續費折數\n",
    "#tax=0.003 證券交易稅率\n",
    "comminfo = TWStockCommisionScheme(\n",
    "    commission=0.001425,  \n",
    "    discount=0.5,\n",
    "    tax=0.003,\n",
    "    lowestfee=20\n",
    ")\n",
    "\n",
    "\n",
    "cerebro.broker.addcommissioninfo(comminfo)\n",
    "\n",
    "cerebro.addanalyzer(bt.analyzers.TradeAnalyzer,_name=\"ta\")\n",
    "\n",
    "opt_runs = cerebro.run(maxcpus=1)\n",
    "\n",
    "\n",
    "for run in opt_runs:\n",
    "    for strategy in run:\n",
    "        print(f'RSI短週期設定:{strategy.params.pfast} RSI長週期設定:{strategy.params.pslow}')\n",
    "        try:\n",
    "            printTradeAnalysis(strategy.analyzers.ta.get_analysis())\n",
    "        except KeyError :\n",
    "            print('沒有交易發生')\n",
    "        print(f'持有資產總值: {strategy.params.totalValue:.2f}')\n",
    "        print('--------------------------------------------------------')"
   ]
  },
  {
   "cell_type": "code",
   "execution_count": null,
   "metadata": {},
   "outputs": [],
   "source": []
  }
 ],
 "metadata": {
  "kernelspec": {
   "display_name": "Python 3 (ipykernel)",
   "language": "python",
   "name": "python3"
  },
  "language_info": {
   "codemirror_mode": {
    "name": "ipython",
    "version": 3
   },
   "file_extension": ".py",
   "mimetype": "text/x-python",
   "name": "python",
   "nbconvert_exporter": "python",
   "pygments_lexer": "ipython3",
   "version": "3.9.13"
  }
 },
 "nbformat": 4,
 "nbformat_minor": 4
}
