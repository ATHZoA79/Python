{
 "cells": [
  {
   "cell_type": "markdown",
   "metadata": {},
   "source": [
    "<h1>光頭傑夫製作</h1><img src=\"https://rolqiw.bl.files.1drv.com/y4mYqkObWmQmdJFd8pab8t8m7d_mFhh3_YG63fiAnPaG6gjahHFt0n087pF97x1W2wemm7hd4ZdiPD2OxoPtqcCD_4-Jy-fojnt97kGGWR4Hnq0-9Ny61afd7WVHVTmF_9pcr45OFDFSwLKByeQU1q9TjwKk-HsNmWVsW1eGQ4Gi-9G4pQ5DYoTxswYJ5r5dLF-kKsA1InEyrqmV3kF5pm4WQ?width=658&height=584&cropmode=none\" width=160px align=\"left\" />"
   ]
  },
  {
   "cell_type": "markdown",
   "metadata": {},
   "source": [
    "## <span style=\"color:red \"> 在古代一個百戰百勝的將軍，關鍵是他有地圖，而你需要一個儀表板\n",
    "----\n",
    "    "
   ]
  },
  {
   "cell_type": "markdown",
   "metadata": {},
   "source": [
    "台積電  聯電...."
   ]
  },
  {
   "cell_type": "markdown",
   "metadata": {},
   "source": [
    "### <span style=\"color:red \">1.導入需求模組"
   ]
  },
  {
   "cell_type": "code",
   "execution_count": 1,
   "metadata": {
    "scrolled": true
   },
   "outputs": [
    {
     "data": {
      "text/html": [
       "        <script type=\"text/javascript\">\n",
       "        window.PlotlyConfig = {MathJaxConfig: 'local'};\n",
       "        if (window.MathJax && window.MathJax.Hub && window.MathJax.Hub.Config) {window.MathJax.Hub.Config({SVG: {font: \"STIX-Web\"}});}\n",
       "        if (typeof require !== 'undefined') {\n",
       "        require.undef(\"plotly\");\n",
       "        requirejs.config({\n",
       "            paths: {\n",
       "                'plotly': ['https://cdn.plot.ly/plotly-2.12.1.min']\n",
       "            }\n",
       "        });\n",
       "        require(['plotly'], function(Plotly) {\n",
       "            window._Plotly = Plotly;\n",
       "        });\n",
       "        }\n",
       "        </script>\n",
       "        "
      ]
     },
     "metadata": {},
     "output_type": "display_data"
    },
    {
     "data": {
      "text/html": [
       "        <script type=\"text/javascript\">\n",
       "        window.PlotlyConfig = {MathJaxConfig: 'local'};\n",
       "        if (window.MathJax && window.MathJax.Hub && window.MathJax.Hub.Config) {window.MathJax.Hub.Config({SVG: {font: \"STIX-Web\"}});}\n",
       "        if (typeof require !== 'undefined') {\n",
       "        require.undef(\"plotly\");\n",
       "        requirejs.config({\n",
       "            paths: {\n",
       "                'plotly': ['https://cdn.plot.ly/plotly-2.12.1.min']\n",
       "            }\n",
       "        });\n",
       "        require(['plotly'], function(Plotly) {\n",
       "            window._Plotly = Plotly;\n",
       "        });\n",
       "        }\n",
       "        </script>\n",
       "        "
      ]
     },
     "metadata": {},
     "output_type": "display_data"
    }
   ],
   "source": [
    "from jupyter_dash import JupyterDash\n",
    "import dash\n",
    "from dash import dcc\n",
    "from dash import html\n",
    "import pandas as pd\n",
    "import cufflinks as cf\n",
    "import yfinance as yf\n",
    "cf.set_config_file(world_readable=True,theme='pearl',offline=True)"
   ]
  },
  {
   "cell_type": "markdown",
   "metadata": {},
   "source": [
    "### <span style=\"color:red \">2.設定追蹤股票數目"
   ]
  },
  {
   "cell_type": "code",
   "execution_count": 2,
   "metadata": {},
   "outputs": [],
   "source": [
    "#########################################\n",
    "#請填下面追蹤數\n",
    "\n",
    "\n",
    "追蹤個股數=6\n",
    "\n",
    "\n",
    "#########################################\n",
    "base=[]\n",
    "for i in range(追蹤個股數):\n",
    "    base.append(i)\n"
   ]
  },
  {
   "cell_type": "markdown",
   "metadata": {},
   "source": [
    "### <span style=\"color:red \">3.設定目標股票資料"
   ]
  },
  {
   "cell_type": "code",
   "execution_count": 3,
   "metadata": {},
   "outputs": [],
   "source": [
    "#########################################\n",
    "#請填下面四格\n",
    "# valid periods: 1d,5d,1mo,3mo,6mo,1y,2y,5y,10y,ytd,max\n",
    "#「YTD」 是「year to date」 的縮寫\n",
    "\n",
    "目標股票代碼='2330.tw'\n",
    "期間='3mo'\n",
    "股票名稱='台積電  '\n",
    "編號=1\n",
    "\n",
    "\n",
    "##########################################\n",
    "\n",
    "prices = yf.download(\n",
    "目標股票代碼,\n",
    "period = 期間,\n",
    "progress=False\n",
    ")\n",
    "##########################################\n",
    "\n",
    "title=股票名稱+\"K線圖\"\n",
    "\n",
    "base[編號-1]= cf.QuantFig(prices, title=title,legend='top', name='日K線圖')\n",
    "\n",
    "##########################################\n",
    "#這邊是加入SMA的指標\n",
    "base[編號-1].add_sma(periods=5, column='Close', color='#66ff66')\n",
    "base[編號-1].add_sma(periods=20, column='Close', color='#00ff00')\n",
    "base[編號-1].add_sma(periods=60, column='Close', color='#00ff00')\n",
    "\n",
    "##########################################\n",
    "base[編號-1].add_ema(periods=5, column='Close', color='#df80ff')\n",
    "base[編號-1].add_ema(periods=20, column='Close', color='#cc33ff')\n",
    "\n",
    "##########################################\n",
    "base[編號-1].add_macd(colors=['red','blue'],fast_period=12, slow_period=26, signal_period=9)\n",
    "\n",
    "##########################################\n",
    "base[編號-1].add_rsi(periods=[5,20],rsi_upper=80, rsi_lower=20,colors=['#ffaa80','#ff7733'])\n",
    "\n",
    "##########################################\n",
    "base[編號-1].add_bollinger_bands(periods=20, boll_std=2)\n",
    "\n",
    "##########################################\n",
    "base[編號-1].add_volume()\n",
    "base[編號-1]=base[編號-1].figure(up_color='#ff0000',down_color='#000000')\n"
   ]
  },
  {
   "cell_type": "code",
   "execution_count": 4,
   "metadata": {},
   "outputs": [],
   "source": [
    "#########################################\n",
    "#請填下面四格\n",
    "# valid periods: 1d,5d,1mo,3mo,6mo,1y,2y,5y,10y,ytd,max\n",
    "#「YTD」 是「year to date」 的縮寫\n",
    "\n",
    "目標股票代碼='2303.tw'\n",
    "期間='3mo'\n",
    "股票名稱='聯電  '\n",
    "編號=2\n",
    "\n",
    "\n",
    "##########################################\n",
    "\n",
    "prices = yf.download(\n",
    "目標股票代碼,\n",
    "period = 期間,\n",
    "progress=False\n",
    ")\n",
    "##########################################\n",
    "\n",
    "title=股票名稱+\"K線圖\"\n",
    "\n",
    "base[編號-1]= cf.QuantFig(prices, title=title,legend='top', name='日K線圖')\n",
    "\n",
    "##########################################\n",
    "base[編號-1].add_sma(periods=5, column='Close', color='#66ff66')\n",
    "base[編號-1].add_sma(periods=20, column='Close', color='#00ff00')\n",
    "\n",
    "##########################################\n",
    "base[編號-1].add_ema(periods=5, column='Close', color='#df80ff')\n",
    "base[編號-1].add_ema(periods=20, column='Close', color='#cc33ff')\n",
    "\n",
    "##########################################\n",
    "base[編號-1].add_macd(colors=['red','blue'],fast_period=12, slow_period=26, signal_period=9)\n",
    "\n",
    "##########################################\n",
    "base[編號-1].add_rsi(periods=[5,20],rsi_upper=80, rsi_lower=20,colors=['#ffaa80','#ff7733'])\n",
    "\n",
    "##########################################\n",
    "base[編號-1].add_bollinger_bands(periods=20, boll_std=2)\n",
    "\n",
    "##########################################\n",
    "base[編號-1].add_volume()\n",
    "base[編號-1]=base[編號-1].figure(up_color='#ff0000',down_color='#000000')\n"
   ]
  },
  {
   "cell_type": "code",
   "execution_count": 5,
   "metadata": {},
   "outputs": [],
   "source": [
    "#########################################\n",
    "#請填下面四格\n",
    "# valid periods: 1d,5d,1mo,3mo,6mo,1y,2y,5y,10y,ytd,max\n",
    "#「YTD」 是「year to date」 的縮寫\n",
    "\n",
    "目標股票代碼='2401.tw'\n",
    "期間='3mo'\n",
    "股票名稱='凌陽  '\n",
    "編號=3\n",
    "\n",
    "\n",
    "##########################################\n",
    "\n",
    "prices = yf.download(\n",
    "目標股票代碼,\n",
    "period = 期間,\n",
    "progress=False\n",
    ")\n",
    "##########################################\n",
    "\n",
    "title=股票名稱+\"K線圖\"\n",
    "\n",
    "base[編號-1]= cf.QuantFig(prices, title=title,legend='top', name='日K線圖')\n",
    "\n",
    "##########################################\n",
    "base[編號-1].add_sma(periods=5, column='Close', color='#66ff66')\n",
    "base[編號-1].add_sma(periods=20, column='Close', color='#00ff00')\n",
    "\n",
    "##########################################\n",
    "base[編號-1].add_ema(periods=5, column='Close', color='#df80ff')\n",
    "base[編號-1].add_ema(periods=20, column='Close', color='#cc33ff')\n",
    "\n",
    "##########################################\n",
    "base[編號-1].add_macd(colors=['red','blue'],fast_period=12, slow_period=26, signal_period=9)\n",
    "\n",
    "##########################################\n",
    "base[編號-1].add_rsi(periods=[5,20],rsi_upper=80, rsi_lower=20,colors=['#ffaa80','#ff7733'])\n",
    "\n",
    "##########################################\n",
    "base[編號-1].add_bollinger_bands(periods=20, boll_std=2)\n",
    "\n",
    "##########################################\n",
    "base[編號-1].add_volume()\n",
    "base[編號-1]=base[編號-1].figure(up_color='#ff0000',down_color='#000000')\n"
   ]
  },
  {
   "cell_type": "code",
   "execution_count": 6,
   "metadata": {},
   "outputs": [],
   "source": [
    "#########################################\n",
    "#請填下面四格\n",
    "# valid periods: 1d,5d,1mo,3mo,6mo,1y,2y,5y,10y,ytd,max\n",
    "#「YTD」 是「year to date」 的縮寫\n",
    "\n",
    "目標股票代碼='2329.tw'\n",
    "期間='3mo'\n",
    "股票名稱='華泰 '\n",
    "編號=4\n",
    "\n",
    "\n",
    "##########################################\n",
    "\n",
    "prices = yf.download(\n",
    "目標股票代碼,\n",
    "period = 期間,\n",
    "progress=False\n",
    ")\n",
    "##########################################\n",
    "\n",
    "title=股票名稱+\"K線圖\"\n",
    "\n",
    "base[編號-1]= cf.QuantFig(prices, title=title,legend='top', name='日K線圖')\n",
    "\n",
    "##########################################\n",
    "base[編號-1].add_sma(periods=5, column='Close', color='#66ff66')\n",
    "base[編號-1].add_sma(periods=20, column='Close', color='#00ff00')\n",
    "\n",
    "##########################################\n",
    "base[編號-1].add_ema(periods=5, column='Close', color='#df80ff')\n",
    "base[編號-1].add_ema(periods=20, column='Close', color='#cc33ff')\n",
    "\n",
    "##########################################\n",
    "base[編號-1].add_macd(colors=['red','blue'],fast_period=12, slow_period=26, signal_period=9)\n",
    "\n",
    "##########################################\n",
    "base[編號-1].add_rsi(periods=[5,20],rsi_upper=80, rsi_lower=20,colors=['#ffaa80','#ff7733'])\n",
    "\n",
    "##########################################\n",
    "base[編號-1].add_bollinger_bands(periods=20, boll_std=2)\n",
    "\n",
    "##########################################\n",
    "base[編號-1].add_volume()\n",
    "base[編號-1]=base[編號-1].figure(up_color='#ff0000',down_color='#000000')\n"
   ]
  },
  {
   "cell_type": "code",
   "execution_count": 7,
   "metadata": {},
   "outputs": [],
   "source": [
    "#########################################\n",
    "#請填下面四格\n",
    "# valid periods: 1d,5d,1mo,3mo,6mo,1y,2y,5y,10y,ytd,max\n",
    "#「YTD」 是「year to date」 的縮寫\n",
    "\n",
    "目標股票代碼='2441.tw'\n",
    "期間='3mo'\n",
    "股票名稱='超豐 '\n",
    "編號=5\n",
    "\n",
    "\n",
    "##########################################\n",
    "\n",
    "prices = yf.download(\n",
    "目標股票代碼,\n",
    "period = 期間,\n",
    "progress=False\n",
    ")\n",
    "##########################################\n",
    "\n",
    "title=股票名稱+\"K線圖\"\n",
    "\n",
    "base[編號-1]= cf.QuantFig(prices, title=title,legend='top', name='日K線圖')\n",
    "\n",
    "##########################################\n",
    "base[編號-1].add_sma(periods=5, column='Close', color='#66ff66')\n",
    "base[編號-1].add_sma(periods=20, column='Close', color='#00ff00')\n",
    "\n",
    "##########################################\n",
    "base[編號-1].add_ema(periods=5, column='Close', color='#df80ff')\n",
    "base[編號-1].add_ema(periods=20, column='Close', color='#cc33ff')\n",
    "\n",
    "##########################################\n",
    "base[編號-1].add_macd(colors=['red','blue'],fast_period=12, slow_period=26, signal_period=9)\n",
    "\n",
    "##########################################\n",
    "base[編號-1].add_rsi(periods=[5,20],rsi_upper=80, rsi_lower=20,colors=['#ffaa80','#ff7733'])\n",
    "\n",
    "##########################################\n",
    "base[編號-1].add_bollinger_bands(periods=20, boll_std=2)\n",
    "\n",
    "##########################################\n",
    "base[編號-1].add_volume()\n",
    "base[編號-1]=base[編號-1].figure(up_color='#ff0000',down_color='#000000')\n"
   ]
  },
  {
   "cell_type": "code",
   "execution_count": 8,
   "metadata": {},
   "outputs": [],
   "source": [
    "#########################################\n",
    "#請填下面四格\n",
    "# valid periods: 1d,5d,1mo,3mo,6mo,1y,2y,5y,10y,ytd,max\n",
    "#「YTD」 是「year to date」 的縮寫\n",
    "\n",
    "目標股票代碼='3701.tw'\n",
    "期間='3mo'\n",
    "股票名稱='大眾控 '\n",
    "編號=6\n",
    "\n",
    "\n",
    "##########################################\n",
    "\n",
    "prices = yf.download(\n",
    "目標股票代碼,\n",
    "period = 期間,\n",
    "progress=False\n",
    ")\n",
    "##########################################\n",
    "\n",
    "title=股票名稱+\"K線圖\"\n",
    "\n",
    "base[編號-1]= cf.QuantFig(prices, title=title,legend='top', name='日K線圖')\n",
    "\n",
    "##########################################\n",
    "base[編號-1].add_sma(periods=5, column='Close', color='#66ff66')\n",
    "base[編號-1].add_sma(periods=20, column='Close', color='#00ff00')\n",
    "\n",
    "##########################################\n",
    "base[編號-1].add_ema(periods=5, column='Close', color='#df80ff')\n",
    "base[編號-1].add_ema(periods=20, column='Close', color='#cc33ff')\n",
    "\n",
    "##########################################\n",
    "base[編號-1].add_macd(colors=['red','blue'],fast_period=12, slow_period=26, signal_period=9)\n",
    "\n",
    "##########################################\n",
    "base[編號-1].add_rsi(periods=[5,20],rsi_upper=80, rsi_lower=20,colors=['#ffaa80','#ff7733'])\n",
    "\n",
    "##########################################\n",
    "base[編號-1].add_bollinger_bands(periods=20, boll_std=2)\n",
    "\n",
    "##########################################\n",
    "base[編號-1].add_volume()\n",
    "base[編號-1]=base[編號-1].figure(up_color='#ff0000',down_color='#000000')\n"
   ]
  },
  {
   "cell_type": "markdown",
   "metadata": {},
   "source": [
    "### <span style=\"color:red \">Final.啟動儀表板"
   ]
  },
  {
   "cell_type": "code",
   "execution_count": 10,
   "metadata": {
    "scrolled": false
   },
   "outputs": [
    {
     "name": "stdout",
     "output_type": "stream",
     "text": [
      "Dash app running on http://127.0.0.1:8053/\n"
     ]
    }
   ],
   "source": [
    "graph=[]\n",
    "for i in range(追蹤個股數):\n",
    "    graph.append(html.Div([\n",
    "        dcc.Graph(\n",
    "            \n",
    "            figure=base[i]\n",
    "        )\n",
    "    ], style={'width': '100%','height':500,'display': 'block', 'padding': '50 50 1 50','background-color': '#99ccff'}))\n",
    "\n",
    "external_stylesheets = ['https://codepen.io/chriddyp/pen/bWLwgP.css']\n",
    "\n",
    "app = JupyterDash(__name__, external_stylesheets=external_stylesheets)\n",
    "\n",
    "# Create server variable with Flask server object for use with gunicorn\n",
    "server = app.server\n",
    "\n",
    "app.layout = html.Div(graph)\n",
    "\n",
    "app.run_server(debug=True,port=8053)"
   ]
  }
 ],
 "metadata": {
  "jupytext": {
   "formats": "ipynb,py:percent"
  },
  "kernelspec": {
   "display_name": "Python 3 (ipykernel)",
   "language": "python",
   "name": "python3"
  },
  "language_info": {
   "codemirror_mode": {
    "name": "ipython",
    "version": 3
   },
   "file_extension": ".py",
   "mimetype": "text/x-python",
   "name": "python",
   "nbconvert_exporter": "python",
   "pygments_lexer": "ipython3",
   "version": "3.9.13"
  }
 },
 "nbformat": 4,
 "nbformat_minor": 4
}
