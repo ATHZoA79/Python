{
 "cells": [
  {
   "cell_type": "markdown",
   "metadata": {},
   "source": [
    "<h1>光頭傑夫製作</h1><img src=\"https://bl3302files.storage.live.com/y4mccLq6gAm5ULg2cdCQ-Bl3y0Lw7mmtkvcdqInwwg3MAPeDpabT_YVDs7vVN8tvdaw4meL8i33B42YbUECTNMGkmykUQOC9uJxAC6jE_XkaP7K4BTP1xFvyONy_h8LOGV_QW_2CqIwThrYu1JxnujMB7IUR3y7NLJXaXRZMQekQL80-WZuuGw7EIsdneNGUnE0?width=100&height=91&cropmode=none\" style='width:160px;margin:0'/>"
   ]
  },
  {
   "cell_type": "markdown",
   "metadata": {},
   "source": [
    "### <span style=\"color:red \">Colab安裝套件"
   ]
  },
  {
   "cell_type": "code",
   "execution_count": null,
   "metadata": {},
   "outputs": [],
   "source": [
    "! pip install yfinance"
   ]
  },
  {
   "cell_type": "code",
   "execution_count": null,
   "metadata": {},
   "outputs": [],
   "source": [
    "! pip install jupyter-dash"
   ]
  },
  {
   "cell_type": "markdown",
   "metadata": {},
   "source": [
    "### <span style=\"color:red \">1.導入需求模組"
   ]
  },
  {
   "cell_type": "code",
   "execution_count": 2,
   "metadata": {
    "scrolled": true
   },
   "outputs": [
    {
     "data": {
      "text/html": [
       "        <script type=\"text/javascript\">\n",
       "        window.PlotlyConfig = {MathJaxConfig: 'local'};\n",
       "        if (window.MathJax) {MathJax.Hub.Config({SVG: {font: \"STIX-Web\"}});}\n",
       "        if (typeof require !== 'undefined') {\n",
       "        require.undef(\"plotly\");\n",
       "        requirejs.config({\n",
       "            paths: {\n",
       "                'plotly': ['https://cdn.plot.ly/plotly-latest.min']\n",
       "            }\n",
       "        });\n",
       "        require(['plotly'], function(Plotly) {\n",
       "            window._Plotly = Plotly;\n",
       "        });\n",
       "        }\n",
       "        </script>\n",
       "        "
      ]
     },
     "metadata": {},
     "output_type": "display_data"
    },
    {
     "data": {
      "text/html": [
       "        <script type=\"text/javascript\">\n",
       "        window.PlotlyConfig = {MathJaxConfig: 'local'};\n",
       "        if (window.MathJax) {MathJax.Hub.Config({SVG: {font: \"STIX-Web\"}});}\n",
       "        if (typeof require !== 'undefined') {\n",
       "        require.undef(\"plotly\");\n",
       "        requirejs.config({\n",
       "            paths: {\n",
       "                'plotly': ['https://cdn.plot.ly/plotly-latest.min']\n",
       "            }\n",
       "        });\n",
       "        require(['plotly'], function(Plotly) {\n",
       "            window._Plotly = Plotly;\n",
       "        });\n",
       "        }\n",
       "        </script>\n",
       "        "
      ]
     },
     "metadata": {},
     "output_type": "display_data"
    }
   ],
   "source": [
    "from jupyter_dash import JupyterDash\n",
    "import dash\n",
    "import dash_core_components as dcc\n",
    "import dash_html_components as html\n",
    "import pandas as pd\n",
    "import cufflinks as cf\n",
    "import yfinance as yf\n",
    "cf.set_config_file(world_readable=True,theme='pearl',offline=True)\n",
    "JupyterDash.infer_jupyter_proxy_config()"
   ]
  },
  {
   "cell_type": "markdown",
   "metadata": {},
   "source": [
    "### <span style=\"color:red \">2.設定追蹤股票數目"
   ]
  },
  {
   "cell_type": "code",
   "execution_count": 14,
   "metadata": {},
   "outputs": [],
   "source": [
    "#########################################\n",
    "#請填下面追蹤數\n",
    "\n",
    "\n",
    "追蹤個股數=3\n",
    "\n",
    "\n",
    "#########################################\n",
    "base=[]\n",
    "for i in range(追蹤個股數):\n",
    "    base.append(i)\n"
   ]
  },
  {
   "cell_type": "markdown",
   "metadata": {},
   "source": [
    "### <span style=\"color:red \">3.設定目標股票資料"
   ]
  },
  {
   "cell_type": "code",
   "execution_count": 15,
   "metadata": {},
   "outputs": [],
   "source": [
    "#########################################\n",
    "#請填下面四格\n",
    "# valid periods: 1d,5d,1mo,3mo,6mo,1y,2y,5y,10y,ytd,max\n",
    "#「YTD」 是「year to date」 的縮寫\n",
    "\n",
    "目標股票代碼='2330.tw'\n",
    "期間='2y'\n",
    "股票名稱='台積電'\n",
    "編號=1\n",
    "\n",
    "\n",
    "##########################################\n",
    "\n",
    "prices = yf.download(\n",
    "目標股票代碼,\n",
    "period = 期間,\n",
    "progress=False\n",
    ")\n",
    "##########################################\n",
    "\n",
    "title=股票名稱+\"K線圖\"\n",
    "\n",
    "base[編號-1]= cf.QuantFig(prices, title=title,legend='top', name='日K線圖')\n",
    "\n",
    "##########################################\n",
    "base[編號-1].add_sma(periods=5, column='Close', color='#66ff66')\n",
    "base[編號-1].add_sma(periods=20, column='Close', color='#00ff00')\n",
    "\n",
    "##########################################\n",
    "base[編號-1].add_ema(periods=5, column='Close', color='#df80ff')\n",
    "base[編號-1].add_ema(periods=20, column='Close', color='#cc33ff')\n",
    "\n",
    "##########################################\n",
    "base[編號-1].add_macd(colors=['red','blue'],fast_period=12, slow_period=26, signal_period=9)\n",
    "\n",
    "##########################################\n",
    "base[編號-1].add_rsi(periods=[5,20],rsi_upper=80, rsi_lower=20,colors=['#ffaa80','#ff7733'])\n",
    "\n",
    "##########################################\n",
    "base[編號-1].add_bollinger_bands(periods=20, boll_std=2)\n",
    "\n",
    "##########################################\n",
    "base[編號-1].add_volume()\n",
    "base[編號-1]=base[編號-1].figure(up_color='#ff0000',down_color='#000000')\n"
   ]
  },
  {
   "cell_type": "code",
   "execution_count": 16,
   "metadata": {},
   "outputs": [],
   "source": [
    "#########################################\n",
    "#請填下面四格\n",
    "# valid periods: 1d,5d,1mo,3mo,6mo,1y,2y,5y,10y,ytd,max\n",
    "#「YTD」 是「year to date」 的縮寫\n",
    "\n",
    "目標股票代碼='2330.tw'\n",
    "期間='2y'\n",
    "股票名稱='台積電'\n",
    "編號=2\n",
    "\n",
    "\n",
    "##########################################\n",
    "\n",
    "prices = yf.download(\n",
    "目標股票代碼,\n",
    "period = 期間,\n",
    "progress=False\n",
    ")\n",
    "##########################################\n",
    "\n",
    "title=股票名稱+\"K線圖\"\n",
    "\n",
    "base[編號-1]= cf.QuantFig(prices, title=title,legend='top', name='日K線圖')\n",
    "\n",
    "##########################################\n",
    "base[編號-1].add_sma(periods=5, column='Close', color='#66ff66')\n",
    "base[編號-1].add_sma(periods=20, column='Close', color='#00ff00')\n",
    "\n",
    "##########################################\n",
    "base[編號-1].add_ema(periods=5, column='Close', color='#df80ff')\n",
    "base[編號-1].add_ema(periods=20, column='Close', color='#cc33ff')\n",
    "\n",
    "##########################################\n",
    "base[編號-1].add_macd(colors=['red','blue'],fast_period=12, slow_period=26, signal_period=9)\n",
    "\n",
    "##########################################\n",
    "base[編號-1].add_rsi(periods=[5,20],rsi_upper=80, rsi_lower=20,colors=['#ffaa80','#ff7733'])\n",
    "\n",
    "##########################################\n",
    "base[編號-1].add_bollinger_bands(periods=20, boll_std=2)\n",
    "\n",
    "##########################################\n",
    "base[編號-1].add_volume()\n",
    "base[編號-1]=base[編號-1].figure(up_color='#ff0000',down_color='#000000')\n"
   ]
  },
  {
   "cell_type": "code",
   "execution_count": 17,
   "metadata": {},
   "outputs": [],
   "source": [
    "#########################################\n",
    "#請填下面四格\n",
    "# valid periods: 1d,5d,1mo,3mo,6mo,1y,2y,5y,10y,ytd,max\n",
    "#「YTD」 是「year to date」 的縮寫\n",
    "\n",
    "目標股票代碼='2330.tw'\n",
    "期間='2y'\n",
    "股票名稱='台積電'\n",
    "編號=3\n",
    "\n",
    "\n",
    "##########################################\n",
    "\n",
    "prices = yf.download(\n",
    "目標股票代碼,\n",
    "period = 期間,\n",
    "progress=False\n",
    ")\n",
    "##########################################\n",
    "\n",
    "title=股票名稱+\"K線圖\"\n",
    "\n",
    "base[編號-1]= cf.QuantFig(prices, title=title,legend='top', name='日K線圖')\n",
    "\n",
    "##########################################\n",
    "base[編號-1].add_sma(periods=5, column='Close', color='#66ff66')\n",
    "base[編號-1].add_sma(periods=20, column='Close', color='#00ff00')\n",
    "\n",
    "##########################################\n",
    "base[編號-1].add_ema(periods=5, column='Close', color='#df80ff')\n",
    "base[編號-1].add_ema(periods=20, column='Close', color='#cc33ff')\n",
    "\n",
    "##########################################\n",
    "base[編號-1].add_macd(colors=['red','blue'],fast_period=12, slow_period=26, signal_period=9)\n",
    "\n",
    "##########################################\n",
    "base[編號-1].add_rsi(periods=[5,20],rsi_upper=80, rsi_lower=20,colors=['#ffaa80','#ff7733'])\n",
    "\n",
    "##########################################\n",
    "base[編號-1].add_bollinger_bands(periods=20, boll_std=2)\n",
    "\n",
    "##########################################\n",
    "base[編號-1].add_volume()\n",
    "base[編號-1]=base[編號-1].figure(up_color='#ff0000',down_color='#000000')\n"
   ]
  },
  {
   "cell_type": "markdown",
   "metadata": {},
   "source": [
    "### <span style=\"color:red \">Final.啟動儀表板"
   ]
  },
  {
   "cell_type": "code",
   "execution_count": 35,
   "metadata": {},
   "outputs": [
    {
     "name": "stdout",
     "output_type": "stream",
     "text": [
      "Dash app running on http://127.0.0.1:8055/\n"
     ]
    }
   ],
   "source": [
    "graph=[]\n",
    "for i in range(追蹤個股數):\n",
    "    graph.append(html.Div([\n",
    "        dcc.Graph(\n",
    "            \n",
    "            figure=base[i]\n",
    "        )\n",
    "    ], style={'width': '100%','height':500,'display': 'block', 'padding': '50 50 1 50','background-color': '#ff6666'}))\n",
    "\n",
    "external_stylesheets = ['https://codepen.io/chriddyp/pen/bWLwgP.css']\n",
    "\n",
    "app = JupyterDash(__name__, external_stylesheets=external_stylesheets)\n",
    "\n",
    "# Create server variable with Flask server object for use with gunicorn\n",
    "server = app.server\n",
    "\n",
    "app.layout = html.Div(graph)\n",
    "\n",
    "app.run_server(debug=True,port=8055)"
   ]
  },
  {
   "cell_type": "code",
   "execution_count": null,
   "metadata": {},
   "outputs": [],
   "source": []
  }
 ],
 "metadata": {
  "jupytext": {
   "formats": "ipynb,py:percent"
  },
  "kernelspec": {
   "display_name": "Python 3 (ipykernel)",
   "language": "python",
   "name": "python3"
  },
  "language_info": {
   "codemirror_mode": {
    "name": "ipython",
    "version": 3
   },
   "file_extension": ".py",
   "mimetype": "text/x-python",
   "name": "python",
   "nbconvert_exporter": "python",
   "pygments_lexer": "ipython3",
   "version": "3.9.13"
  }
 },
 "nbformat": 4,
 "nbformat_minor": 4
}
